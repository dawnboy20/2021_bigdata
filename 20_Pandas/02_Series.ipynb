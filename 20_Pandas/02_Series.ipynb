{
 "cells": [
  {
   "cell_type": "markdown",
   "metadata": {},
   "source": [
    "# 2. Series"
   ]
  },
  {
   "cell_type": "code",
   "execution_count": 63,
   "metadata": {},
   "outputs": [],
   "source": [
    "import pandas as pd\n",
    "import numpy as np"
   ]
  },
  {
   "cell_type": "markdown",
   "metadata": {},
   "source": [
    "## 2-1. Series 생성하기\n",
    "* Numpy에서 제공하는 1차원 배열과 유사\n",
    "* 엑셀에서 한 컬럼 (엑셀 기준 세로줄)\n",
    "* Series = 1차원 배열의 값(value) + 행 인덱스(index)"
   ]
  },
  {
   "cell_type": "code",
   "execution_count": 68,
   "metadata": {},
   "outputs": [
    {
     "output_type": "execute_result",
     "data": {
      "text/plain": [
       "0    1\n",
       "1    2\n",
       "2    3\n",
       "3    4\n",
       "dtype: int64"
      ]
     },
     "metadata": {},
     "execution_count": 68
    }
   ],
   "source": [
    "# 1. value값만 주기\n",
    "# index를 지정하지 않은 경우 0부터 시작하는 index가 부여됨\n",
    "s = pd.Series([1,2,3,4])\n",
    "s"
   ]
  },
  {
   "cell_type": "code",
   "execution_count": 69,
   "metadata": {},
   "outputs": [
    {
     "output_type": "execute_result",
     "data": {
      "text/plain": [
       "pandas.core.series.Series"
      ]
     },
     "metadata": {},
     "execution_count": 69
    }
   ],
   "source": [
    "type(s)"
   ]
  },
  {
   "cell_type": "code",
   "execution_count": 70,
   "metadata": {},
   "outputs": [
    {
     "output_type": "execute_result",
     "data": {
      "text/plain": [
       "(4,)"
      ]
     },
     "metadata": {},
     "execution_count": 70
    }
   ],
   "source": [
    "s.shape"
   ]
  },
  {
   "cell_type": "code",
   "execution_count": 71,
   "metadata": {},
   "outputs": [
    {
     "output_type": "execute_result",
     "data": {
      "text/plain": [
       "RangeIndex(start=0, stop=4, step=1)"
      ]
     },
     "metadata": {},
     "execution_count": 71
    }
   ],
   "source": [
    "# index 속성\n",
    "s.index"
   ]
  },
  {
   "cell_type": "code",
   "execution_count": 72,
   "metadata": {},
   "outputs": [
    {
     "output_type": "execute_result",
     "data": {
      "text/plain": [
       "array([1, 2, 3, 4], dtype=int64)"
      ]
     },
     "metadata": {},
     "execution_count": 72
    }
   ],
   "source": [
    "s.values"
   ]
  },
  {
   "cell_type": "code",
   "execution_count": 73,
   "metadata": {},
   "outputs": [
    {
     "output_type": "execute_result",
     "data": {
      "text/plain": [
       "numpy.ndarray"
      ]
     },
     "metadata": {},
     "execution_count": 73
    }
   ],
   "source": [
    "type(s.values)"
   ]
  },
  {
   "cell_type": "code",
   "execution_count": 74,
   "metadata": {},
   "outputs": [
    {
     "output_type": "execute_result",
     "data": {
      "text/plain": [
       "0    1.0\n",
       "1    2.0\n",
       "2    3.0\n",
       "3    4.0\n",
       "dtype: float64"
      ]
     },
     "metadata": {},
     "execution_count": 74
    }
   ],
   "source": [
    "# dtype 지정하기\n",
    "pd.Series([1,2,3,4], dtype=float)"
   ]
  },
  {
   "cell_type": "code",
   "execution_count": 75,
   "metadata": {},
   "outputs": [
    {
     "output_type": "execute_result",
     "data": {
      "text/plain": [
       "0    1\n",
       "1    2\n",
       "2    3\n",
       "3    4\n",
       "dtype: int32"
      ]
     },
     "metadata": {},
     "execution_count": 75
    }
   ],
   "source": [
    "pd.Series(np.array([1,2,3,4]))"
   ]
  },
  {
   "cell_type": "code",
   "execution_count": 78,
   "metadata": {},
   "outputs": [
    {
     "output_type": "execute_result",
     "data": {
      "text/plain": [
       "0    1\n",
       "1    2\n",
       "2    3\n",
       "3    4\n",
       "4    5\n",
       "5    6\n",
       "6    7\n",
       "7    8\n",
       "8    9\n",
       "dtype: int32"
      ]
     },
     "metadata": {},
     "execution_count": 78
    }
   ],
   "source": [
    "# 1~10까지 Series 만들기\n",
    "pd.Series(np.arange(1,10))           "
   ]
  },
  {
   "cell_type": "code",
   "execution_count": 79,
   "metadata": {},
   "outputs": [
    {
     "output_type": "execute_result",
     "data": {
      "text/plain": [
       "1    10\n",
       "2    20\n",
       "3    30\n",
       "4    40\n",
       "dtype: int64"
      ]
     },
     "metadata": {},
     "execution_count": 79
    }
   ],
   "source": [
    "# 2.value와 index 둘다 추가\n",
    "index = [1,2,3,4]\n",
    "s = pd.Series([10,20,30,40], index = index)\n",
    "s"
   ]
  },
  {
   "cell_type": "code",
   "execution_count": 80,
   "metadata": {},
   "outputs": [
    {
     "output_type": "execute_result",
     "data": {
      "text/plain": [
       "치킨     12000\n",
       "피자     30000\n",
       "초밥      2000\n",
       "삼겹살    20000\n",
       "dtype: int64"
      ]
     },
     "metadata": {},
     "execution_count": 80
    }
   ],
   "source": [
    "# index에 문자열 주기 \n",
    "index = ['치킨','피자','초밥','삼겹살']\n",
    "s = pd.Series([12000, 30000, 2000, 20000], index = index)\n",
    "s"
   ]
  },
  {
   "cell_type": "code",
   "execution_count": 81,
   "metadata": {},
   "outputs": [
    {
     "output_type": "execute_result",
     "data": {
      "text/plain": [
       "Index(['치킨', '피자', '초밥', '삼겹살'], dtype='object')"
      ]
     },
     "metadata": {},
     "execution_count": 81
    }
   ],
   "source": [
    "s.index"
   ]
  },
  {
   "cell_type": "code",
   "execution_count": 82,
   "metadata": {},
   "outputs": [
    {
     "output_type": "execute_result",
     "data": {
      "text/plain": [
       "array([12000, 30000,  2000, 20000], dtype=int64)"
      ]
     },
     "metadata": {},
     "execution_count": 82
    }
   ],
   "source": [
    "s.values"
   ]
  },
  {
   "cell_type": "code",
   "execution_count": 83,
   "metadata": {},
   "outputs": [
    {
     "output_type": "execute_result",
     "data": {
      "text/plain": [
       "치킨     16000\n",
       "콜라      2000\n",
       "초밥     30000\n",
       "삼겹살    12000\n",
       "dtype: int64"
      ]
     },
     "metadata": {},
     "execution_count": 83
    }
   ],
   "source": [
    "# 딕셔너리로 만들기\n",
    "s = pd.Series({'치킨':16000,'콜라':2000,'초밥':30000,'삼겹살':12000})\n",
    "s"
   ]
  },
  {
   "cell_type": "code",
   "execution_count": 85,
   "metadata": {},
   "outputs": [
    {
     "output_type": "execute_result",
     "data": {
      "text/plain": [
       "치킨     16000\n",
       "콜라      2000\n",
       "초밥     30000\n",
       "삼겹살    12000\n",
       "Name: 메뉴, dtype: int64"
      ]
     },
     "metadata": {},
     "execution_count": 85
    }
   ],
   "source": [
    "s.name='메뉴'\n",
    "s"
   ]
  },
  {
   "cell_type": "code",
   "execution_count": 87,
   "metadata": {},
   "outputs": [],
   "source": [
    "s.index.name = '메뉴명'"
   ]
  },
  {
   "cell_type": "code",
   "execution_count": 88,
   "metadata": {},
   "outputs": [
    {
     "output_type": "execute_result",
     "data": {
      "text/plain": [
       "메뉴명\n",
       "치킨     16000\n",
       "콜라      2000\n",
       "초밥     30000\n",
       "삼겹살    12000\n",
       "Name: 메뉴, dtype: int64"
      ]
     },
     "metadata": {},
     "execution_count": 88
    }
   ],
   "source": [
    "s"
   ]
  },
  {
   "cell_type": "markdown",
   "metadata": {},
   "source": [
    "## 2-2. Series 인덱싱과 슬라이싱"
   ]
  },
  {
   "cell_type": "code",
   "execution_count": 89,
   "metadata": {},
   "outputs": [
    {
     "output_type": "execute_result",
     "data": {
      "text/plain": [
       "메뉴명\n",
       "치킨     16000\n",
       "콜라      2000\n",
       "초밥     30000\n",
       "삼겹살    12000\n",
       "Name: 메뉴, dtype: int64"
      ]
     },
     "metadata": {},
     "execution_count": 89
    }
   ],
   "source": [
    "s"
   ]
  },
  {
   "cell_type": "code",
   "execution_count": 90,
   "metadata": {},
   "outputs": [
    {
     "output_type": "execute_result",
     "data": {
      "text/plain": [
       "16000"
      ]
     },
     "metadata": {},
     "execution_count": 90
    }
   ],
   "source": [
    "# 0 인덱스\n",
    "s[0]"
   ]
  },
  {
   "cell_type": "code",
   "execution_count": 91,
   "metadata": {},
   "outputs": [
    {
     "output_type": "execute_result",
     "data": {
      "text/plain": [
       "(16000, 16000)"
      ]
     },
     "metadata": {},
     "execution_count": 91
    }
   ],
   "source": [
    "s['치킨'], s.치킨"
   ]
  },
  {
   "cell_type": "code",
   "execution_count": 92,
   "metadata": {},
   "outputs": [
    {
     "output_type": "execute_result",
     "data": {
      "text/plain": [
       "(12000, 12000)"
      ]
     },
     "metadata": {},
     "execution_count": 92
    }
   ],
   "source": [
    "s[3], s[-1]"
   ]
  },
  {
   "cell_type": "code",
   "execution_count": 93,
   "metadata": {},
   "outputs": [
    {
     "output_type": "execute_result",
     "data": {
      "text/plain": [
       "(12000, 12000)"
      ]
     },
     "metadata": {},
     "execution_count": 93
    }
   ],
   "source": [
    "s['삼겹살'], s.삼겹살\n"
   ]
  },
  {
   "cell_type": "code",
   "execution_count": 94,
   "metadata": {},
   "outputs": [
    {
     "output_type": "execute_result",
     "data": {
      "text/plain": [
       "1    10\n",
       "2    20\n",
       "3    30\n",
       "4    40\n",
       "dtype: int64"
      ]
     },
     "metadata": {},
     "execution_count": 94
    }
   ],
   "source": [
    "#index가 숫자인 경우\n",
    "t = pd.Series([10,20,30,40], index = [1,2,3,4])\n",
    "t"
   ]
  },
  {
   "cell_type": "code",
   "execution_count": 98,
   "metadata": {},
   "outputs": [
    {
     "output_type": "execute_result",
     "data": {
      "text/plain": [
       "10"
      ]
     },
     "metadata": {},
     "execution_count": 98
    }
   ],
   "source": [
    "t[1] # 인덱스 번호보다 인덱스 이름을 더 우선시한다"
   ]
  },
  {
   "cell_type": "code",
   "execution_count": 99,
   "metadata": {},
   "outputs": [
    {
     "output_type": "execute_result",
     "data": {
      "text/plain": [
       "메뉴명\n",
       "치킨     16000\n",
       "콜라      2000\n",
       "초밥     30000\n",
       "삼겹살    12000\n",
       "Name: 메뉴, dtype: int64"
      ]
     },
     "metadata": {},
     "execution_count": 99
    }
   ],
   "source": [
    "# Fancy 인덱싱\n",
    "s"
   ]
  },
  {
   "cell_type": "code",
   "execution_count": 100,
   "metadata": {},
   "outputs": [
    {
     "output_type": "execute_result",
     "data": {
      "text/plain": [
       "메뉴명\n",
       "치킨    16000\n",
       "콜라     2000\n",
       "Name: 메뉴, dtype: int64"
      ]
     },
     "metadata": {},
     "execution_count": 100
    }
   ],
   "source": [
    "s[['치킨','콜라']]"
   ]
  },
  {
   "cell_type": "code",
   "execution_count": 101,
   "metadata": {},
   "outputs": [
    {
     "output_type": "execute_result",
     "data": {
      "text/plain": [
       "메뉴명\n",
       "치킨    16000\n",
       "콜라     2000\n",
       "Name: 메뉴, dtype: int64"
      ]
     },
     "metadata": {},
     "execution_count": 101
    }
   ],
   "source": [
    "s[[0,1]]"
   ]
  },
  {
   "cell_type": "code",
   "execution_count": 102,
   "metadata": {},
   "outputs": [
    {
     "output_type": "execute_result",
     "data": {
      "text/plain": [
       "메뉴명\n",
       "치킨     False\n",
       "콜라      True\n",
       "초밥     False\n",
       "삼겹살     True\n",
       "Name: 메뉴, dtype: bool"
      ]
     },
     "metadata": {},
     "execution_count": 102
    }
   ],
   "source": [
    "# Boolean 인덱싱\n",
    "s <= 15000"
   ]
  },
  {
   "cell_type": "code",
   "execution_count": 103,
   "metadata": {},
   "outputs": [
    {
     "output_type": "execute_result",
     "data": {
      "text/plain": [
       "메뉴명\n",
       "콜라      2000\n",
       "삼겹살    12000\n",
       "Name: 메뉴, dtype: int64"
      ]
     },
     "metadata": {},
     "execution_count": 103
    }
   ],
   "source": [
    "s[s <= 15000]"
   ]
  },
  {
   "cell_type": "code",
   "execution_count": 104,
   "metadata": {},
   "outputs": [
    {
     "output_type": "execute_result",
     "data": {
      "text/plain": [
       "메뉴명\n",
       "치킨      True\n",
       "콜라     False\n",
       "초밥      True\n",
       "삼겹살    False\n",
       "Name: 메뉴, dtype: bool"
      ]
     },
     "metadata": {},
     "execution_count": 104
    }
   ],
   "source": [
    "(s>=15000) & (s<=30000)"
   ]
  },
  {
   "cell_type": "code",
   "execution_count": 105,
   "metadata": {},
   "outputs": [
    {
     "output_type": "execute_result",
     "data": {
      "text/plain": [
       "메뉴명\n",
       "치킨    16000\n",
       "초밥    30000\n",
       "Name: 메뉴, dtype: int64"
      ]
     },
     "metadata": {},
     "execution_count": 105
    }
   ],
   "source": [
    "s[(s>=15000) & (s<=30000)]"
   ]
  },
  {
   "cell_type": "code",
   "execution_count": 106,
   "metadata": {},
   "outputs": [
    {
     "output_type": "execute_result",
     "data": {
      "text/plain": [
       "메뉴명\n",
       "치킨     16000\n",
       "콜라      2000\n",
       "초밥     30000\n",
       "삼겹살    12000\n",
       "Name: 메뉴, dtype: int64"
      ]
     },
     "metadata": {},
     "execution_count": 106
    }
   ],
   "source": [
    "# 슬라이싱 (start:end:step)\n",
    "s"
   ]
  },
  {
   "cell_type": "code",
   "execution_count": 107,
   "metadata": {},
   "outputs": [
    {
     "output_type": "execute_result",
     "data": {
      "text/plain": [
       "메뉴명\n",
       "콜라     2000\n",
       "초밥    30000\n",
       "Name: 메뉴, dtype: int64"
      ]
     },
     "metadata": {},
     "execution_count": 107
    }
   ],
   "source": [
    "# 0인덱싱 사용 슬라이싱 : end - 1\n",
    "s[1:3]"
   ]
  },
  {
   "cell_type": "code",
   "execution_count": 108,
   "metadata": {},
   "outputs": [
    {
     "output_type": "execute_result",
     "data": {
      "text/plain": [
       "메뉴명\n",
       "콜라     2000\n",
       "초밥    30000\n",
       "Name: 메뉴, dtype: int64"
      ]
     },
     "metadata": {},
     "execution_count": 108
    }
   ],
   "source": [
    "# 인덱스 라벨로 슬라이싱을 하면 end까지\n",
    "s['콜라':'초밥']"
   ]
  },
  {
   "cell_type": "markdown",
   "metadata": {},
   "source": [
    "## 2-3. Series 데이터 CRUD"
   ]
  },
  {
   "cell_type": "code",
   "execution_count": 111,
   "metadata": {},
   "outputs": [
    {
     "output_type": "execute_result",
     "data": {
      "text/plain": [
       "메뉴명\n",
       "치킨     16000\n",
       "콜라      2000\n",
       "초밥     30000\n",
       "삼겹살    12000\n",
       "Name: 메뉴, dtype: int64"
      ]
     },
     "metadata": {},
     "execution_count": 111
    }
   ],
   "source": [
    "# 앞에서부터 데이터 보기\n",
    "s.head()"
   ]
  },
  {
   "cell_type": "code",
   "execution_count": 112,
   "metadata": {},
   "outputs": [
    {
     "output_type": "execute_result",
     "data": {
      "text/plain": [
       "메뉴명\n",
       "치킨     16000\n",
       "콜라      2000\n",
       "초밥     30000\n",
       "삼겹살    12000\n",
       "Name: 메뉴, dtype: int64"
      ]
     },
     "metadata": {},
     "execution_count": 112
    }
   ],
   "source": [
    "# 뒤에서부터 데이터 보기\n",
    "s.tail()"
   ]
  },
  {
   "cell_type": "code",
   "execution_count": 113,
   "metadata": {},
   "outputs": [
    {
     "output_type": "execute_result",
     "data": {
      "text/plain": [
       "메뉴명\n",
       "콜라      2000\n",
       "초밥     30000\n",
       "삼겹살    12000\n",
       "Name: 메뉴, dtype: int64"
      ]
     },
     "metadata": {},
     "execution_count": 113
    }
   ],
   "source": [
    "s.tail(3)"
   ]
  },
  {
   "cell_type": "code",
   "execution_count": 114,
   "metadata": {},
   "outputs": [
    {
     "output_type": "execute_result",
     "data": {
      "text/plain": [
       "메뉴명\n",
       "치킨     16000\n",
       "콜라      2000\n",
       "초밥     30000\n",
       "삼겹살    12000\n",
       "피자     20000\n",
       "Name: 메뉴, dtype: int64"
      ]
     },
     "metadata": {},
     "execution_count": 114
    }
   ],
   "source": [
    "# 데이터 추가\n",
    "# 피자 추가 (20000)\n",
    "s['피자'] = 20000\n",
    "s"
   ]
  },
  {
   "cell_type": "code",
   "execution_count": 115,
   "metadata": {},
   "outputs": [
    {
     "output_type": "execute_result",
     "data": {
      "text/plain": [
       "메뉴명\n",
       "치킨     16000.0\n",
       "콜라      2000.0\n",
       "초밥     30000.0\n",
       "삼겹살    12000.0\n",
       "피자     20000.0\n",
       "햄버거        NaN\n",
       "Name: 메뉴, dtype: float64"
      ]
     },
     "metadata": {},
     "execution_count": 115
    }
   ],
   "source": [
    "s['햄버거'] = np.NaN\n",
    "s"
   ]
  },
  {
   "cell_type": "code",
   "execution_count": 116,
   "metadata": {},
   "outputs": [
    {
     "output_type": "execute_result",
     "data": {
      "text/plain": [
       "메뉴명\n",
       "치킨     False\n",
       "콜라     False\n",
       "초밥     False\n",
       "삼겹살    False\n",
       "피자     False\n",
       "햄버거     True\n",
       "Name: 메뉴, dtype: bool"
      ]
     },
     "metadata": {},
     "execution_count": 116
    }
   ],
   "source": [
    "# 비어있는 데이터 찾기\n",
    "s.isnull()"
   ]
  },
  {
   "cell_type": "code",
   "execution_count": 117,
   "metadata": {},
   "outputs": [
    {
     "output_type": "execute_result",
     "data": {
      "text/plain": [
       "메뉴명\n",
       "치킨     False\n",
       "콜라     False\n",
       "초밥     False\n",
       "삼겹살    False\n",
       "피자     False\n",
       "햄버거     True\n",
       "Name: 메뉴, dtype: bool"
      ]
     },
     "metadata": {},
     "execution_count": 117
    }
   ],
   "source": [
    "s.isna()"
   ]
  },
  {
   "cell_type": "code",
   "execution_count": 118,
   "metadata": {},
   "outputs": [
    {
     "output_type": "execute_result",
     "data": {
      "text/plain": [
       "메뉴명\n",
       "치킨      True\n",
       "콜라      True\n",
       "초밥      True\n",
       "삼겹살     True\n",
       "피자      True\n",
       "햄버거    False\n",
       "Name: 메뉴, dtype: bool"
      ]
     },
     "metadata": {},
     "execution_count": 118
    }
   ],
   "source": [
    "s.notna()"
   ]
  },
  {
   "cell_type": "code",
   "execution_count": 119,
   "metadata": {},
   "outputs": [
    {
     "output_type": "execute_result",
     "data": {
      "text/plain": [
       "메뉴명\n",
       "치킨     16000.0\n",
       "콜라      2000.0\n",
       "초밥     30000.0\n",
       "삼겹살    12000.0\n",
       "피자     20000.0\n",
       "Name: 메뉴, dtype: float64"
      ]
     },
     "metadata": {},
     "execution_count": 119
    }
   ],
   "source": [
    "s[s.notna()]"
   ]
  },
  {
   "cell_type": "code",
   "execution_count": 120,
   "metadata": {},
   "outputs": [
    {
     "output_type": "execute_result",
     "data": {
      "text/plain": [
       "메뉴명\n",
       "치킨      True\n",
       "콜라      True\n",
       "초밥      True\n",
       "삼겹살     True\n",
       "피자      True\n",
       "햄버거    False\n",
       "Name: 메뉴, dtype: bool"
      ]
     },
     "metadata": {},
     "execution_count": 120
    }
   ],
   "source": [
    "# 비어있는지 검사\n",
    "s.notnull()"
   ]
  },
  {
   "cell_type": "code",
   "execution_count": 121,
   "metadata": {},
   "outputs": [
    {
     "output_type": "execute_result",
     "data": {
      "text/plain": [
       "메뉴명\n",
       "치킨     20000.0\n",
       "콜라      2000.0\n",
       "초밥     30000.0\n",
       "삼겹살    12000.0\n",
       "피자     20000.0\n",
       "햄버거        NaN\n",
       "Name: 메뉴, dtype: float64"
      ]
     },
     "metadata": {},
     "execution_count": 121
    }
   ],
   "source": [
    "# 데이터 변경하기\n",
    "s['치킨'] = 20000\n",
    "s"
   ]
  },
  {
   "cell_type": "code",
   "execution_count": 122,
   "metadata": {},
   "outputs": [
    {
     "output_type": "execute_result",
     "data": {
      "text/plain": [
       "메뉴명\n",
       "치킨     20000.0\n",
       "콜라      2000.0\n",
       "초밥     30000.0\n",
       "삼겹살    12000.0\n",
       "피자     20000.0\n",
       "햄버거        NaN\n",
       "Name: 메뉴, dtype: float64"
      ]
     },
     "metadata": {},
     "execution_count": 122
    }
   ],
   "source": [
    "s[0] = 20000\n",
    "s"
   ]
  },
  {
   "cell_type": "code",
   "execution_count": 123,
   "metadata": {},
   "outputs": [
    {
     "output_type": "execute_result",
     "data": {
      "text/plain": [
       "메뉴명\n",
       "치킨     20000.0\n",
       "콜라      2000.0\n",
       "초밥     30000.0\n",
       "삼겹살    12000.0\n",
       "피자     20000.0\n",
       "Name: 메뉴, dtype: float64"
      ]
     },
     "metadata": {},
     "execution_count": 123
    }
   ],
   "source": [
    "# 데이터 삭제하기\n",
    "s\n",
    "del s['햄버거']\n",
    "s"
   ]
  },
  {
   "cell_type": "markdown",
   "metadata": {},
   "source": [
    "## 2-4. Series의 연산"
   ]
  },
  {
   "cell_type": "code",
   "execution_count": 124,
   "metadata": {},
   "outputs": [
    {
     "output_type": "execute_result",
     "data": {
      "text/plain": [
       "치킨     20000\n",
       "콜라      2000\n",
       "초밥     30000\n",
       "삼겹살    12000\n",
       "피자     20000\n",
       "dtype: int64"
      ]
     },
     "metadata": {},
     "execution_count": 124
    }
   ],
   "source": [
    "# Series간의 사칙연산\n",
    "data = [20000,2000,30000,12000,20000]\n",
    "index = ['치킨','콜라','초밥','삼겹살','피자']\n",
    "s2 = pd.Series(data = data, index = index)\n",
    "s2"
   ]
  },
  {
   "cell_type": "code",
   "execution_count": 125,
   "metadata": {},
   "outputs": [
    {
     "output_type": "execute_result",
     "data": {
      "text/plain": [
       "메뉴명\n",
       "치킨     40000.0\n",
       "콜라      4000.0\n",
       "초밥     60000.0\n",
       "삼겹살    24000.0\n",
       "피자     40000.0\n",
       "dtype: float64"
      ]
     },
     "metadata": {},
     "execution_count": 125
    }
   ],
   "source": [
    "s + s2"
   ]
  },
  {
   "cell_type": "code",
   "execution_count": 126,
   "metadata": {},
   "outputs": [
    {
     "output_type": "execute_result",
     "data": {
      "text/plain": [
       "메뉴명\n",
       "치킨     0.0\n",
       "콜라     0.0\n",
       "초밥     0.0\n",
       "삼겹살    0.0\n",
       "피자     0.0\n",
       "dtype: float64"
      ]
     },
     "metadata": {},
     "execution_count": 126
    }
   ],
   "source": [
    "s - s2"
   ]
  },
  {
   "cell_type": "code",
   "execution_count": 127,
   "metadata": {},
   "outputs": [
    {
     "output_type": "execute_result",
     "data": {
      "text/plain": [
       "메뉴명\n",
       "치킨     21000.0\n",
       "콜라      3000.0\n",
       "초밥     31000.0\n",
       "삼겹살    13000.0\n",
       "피자     21000.0\n",
       "Name: 메뉴, dtype: float64"
      ]
     },
     "metadata": {},
     "execution_count": 127
    }
   ],
   "source": [
    "# Scalar와의 연산\n",
    "s = s + 1000\n",
    "s"
   ]
  },
  {
   "cell_type": "code",
   "execution_count": 128,
   "metadata": {},
   "outputs": [
    {
     "output_type": "execute_result",
     "data": {
      "text/plain": [
       "31000.0"
      ]
     },
     "metadata": {},
     "execution_count": 128
    }
   ],
   "source": [
    "# Aggregation 함수\n",
    "s.max()"
   ]
  },
  {
   "cell_type": "code",
   "execution_count": 129,
   "metadata": {},
   "outputs": [
    {
     "output_type": "execute_result",
     "data": {
      "text/plain": [
       "3000.0"
      ]
     },
     "metadata": {},
     "execution_count": 129
    }
   ],
   "source": [
    "s.min()"
   ]
  },
  {
   "cell_type": "code",
   "execution_count": 130,
   "metadata": {},
   "outputs": [
    {
     "output_type": "execute_result",
     "data": {
      "text/plain": [
       "89000.0"
      ]
     },
     "metadata": {},
     "execution_count": 130
    }
   ],
   "source": [
    "s.sum()"
   ]
  },
  {
   "cell_type": "code",
   "execution_count": 131,
   "metadata": {},
   "outputs": [
    {
     "output_type": "execute_result",
     "data": {
      "text/plain": [
       "17800.0"
      ]
     },
     "metadata": {},
     "execution_count": 131
    }
   ],
   "source": [
    "s.mean()"
   ]
  },
  {
   "cell_type": "code",
   "execution_count": 132,
   "metadata": {},
   "outputs": [
    {
     "output_type": "execute_result",
     "data": {
      "text/plain": [
       "메뉴명\n",
       "치킨     21000.0\n",
       "콜라      3000.0\n",
       "초밥     31000.0\n",
       "삼겹살    13000.0\n",
       "피자     21000.0\n",
       "Name: 메뉴, dtype: float64"
      ]
     },
     "metadata": {},
     "execution_count": 132
    }
   ],
   "source": [
    "s"
   ]
  },
  {
   "cell_type": "code",
   "execution_count": 133,
   "metadata": {},
   "outputs": [
    {
     "output_type": "execute_result",
     "data": {
      "text/plain": [
       "21000.0"
      ]
     },
     "metadata": {},
     "execution_count": 133
    }
   ],
   "source": [
    "s.median()"
   ]
  },
  {
   "cell_type": "code",
   "execution_count": 134,
   "metadata": {},
   "outputs": [
    {
     "output_type": "execute_result",
     "data": {
      "text/plain": [
       "메뉴명\n",
       "치킨     21000.0\n",
       "콜라      3000.0\n",
       "초밥     31000.0\n",
       "삼겹살    13000.0\n",
       "피자     21000.0\n",
       "Name: 메뉴, dtype: float64"
      ]
     },
     "metadata": {},
     "execution_count": 134
    }
   ],
   "source": [
    "s"
   ]
  },
  {
   "cell_type": "code",
   "execution_count": null,
   "metadata": {},
   "outputs": [],
   "source": []
  }
 ],
 "metadata": {
  "kernelspec": {
   "name": "python3",
   "display_name": "Python 3.8.2 32-bit"
  },
  "language_info": {
   "codemirror_mode": {
    "name": "ipython",
    "version": 3
   },
   "file_extension": ".py",
   "mimetype": "text/x-python",
   "name": "python",
   "nbconvert_exporter": "python",
   "pygments_lexer": "ipython3",
   "version": "3.8.2"
  },
  "interpreter": {
   "hash": "d4c77dc6b81d4d031dfdfe852e6343c22a739ad6f5ea1c5ff982e63518782848"
  }
 },
 "nbformat": 4,
 "nbformat_minor": 4
}