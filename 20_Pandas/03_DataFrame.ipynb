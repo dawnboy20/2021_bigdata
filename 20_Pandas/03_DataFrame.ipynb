{
 "cells": [
  {
   "cell_type": "markdown",
   "metadata": {},
   "source": [
    "# 3. DataFrame"
   ]
  },
  {
   "cell_type": "markdown",
   "metadata": {},
   "source": [
    "## 3-1. DataFrame 생성하기\n",
    "* 2차원 행렬데이터에 행인덱스, 열인덱스가 붙은 것 (엑셀 Sheet 유사)\n",
    "* DataFrame = 2차원 배열의 값(value) + 행 인덱스(row index) + 열 인덱스(column index)\n",
    "* Numpy의 2차원 배열은 동일한 자료형을 가지지만 DataFrame은 열마다 자료형이 다를 수 있음"
   ]
  },
  {
   "cell_type": "code",
   "execution_count": 191,
   "metadata": {},
   "outputs": [],
   "source": [
    "import pandas as pd\n",
    "import numpy as np"
   ]
  },
  {
   "cell_type": "code",
   "execution_count": 192,
   "metadata": {},
   "outputs": [
    {
     "output_type": "execute_result",
     "data": {
      "text/plain": [
       "     0     1     2\n",
       "0   삼성  2000  스마트폰\n",
       "1   현대  1000   자동차\n",
       "2  네이버   500    포털"
      ],
      "text/html": "<div>\n<style scoped>\n    .dataframe tbody tr th:only-of-type {\n        vertical-align: middle;\n    }\n\n    .dataframe tbody tr th {\n        vertical-align: top;\n    }\n\n    .dataframe thead th {\n        text-align: right;\n    }\n</style>\n<table border=\"1\" class=\"dataframe\">\n  <thead>\n    <tr style=\"text-align: right;\">\n      <th></th>\n      <th>0</th>\n      <th>1</th>\n      <th>2</th>\n    </tr>\n  </thead>\n  <tbody>\n    <tr>\n      <th>0</th>\n      <td>삼성</td>\n      <td>2000</td>\n      <td>스마트폰</td>\n    </tr>\n    <tr>\n      <th>1</th>\n      <td>현대</td>\n      <td>1000</td>\n      <td>자동차</td>\n    </tr>\n    <tr>\n      <th>2</th>\n      <td>네이버</td>\n      <td>500</td>\n      <td>포털</td>\n    </tr>\n  </tbody>\n</table>\n</div>"
     },
     "metadata": {},
     "execution_count": 192
    }
   ],
   "source": [
    "# 1. value값만 주기\n",
    "data = [['삼성', 2000, '스마트폰'],['현대', 1000, '자동차'],['네이버', 500, '포털']]\n",
    "d = pd.DataFrame(data)\n",
    "d"
   ]
  },
  {
   "cell_type": "code",
   "execution_count": 193,
   "metadata": {},
   "outputs": [
    {
     "output_type": "execute_result",
     "data": {
      "text/plain": [
       "pandas.core.frame.DataFrame"
      ]
     },
     "metadata": {},
     "execution_count": 193
    }
   ],
   "source": [
    "type(d)"
   ]
  },
  {
   "cell_type": "code",
   "execution_count": 194,
   "metadata": {},
   "outputs": [
    {
     "output_type": "execute_result",
     "data": {
      "text/plain": [
       "(3, 3)"
      ]
     },
     "metadata": {},
     "execution_count": 194
    }
   ],
   "source": [
    "d.shape"
   ]
  },
  {
   "cell_type": "code",
   "execution_count": 195,
   "metadata": {},
   "outputs": [
    {
     "output_type": "execute_result",
     "data": {
      "text/plain": [
       "RangeIndex(start=0, stop=3, step=1)"
      ]
     },
     "metadata": {},
     "execution_count": 195
    }
   ],
   "source": [
    "# 행 index\n",
    "d.index"
   ]
  },
  {
   "cell_type": "code",
   "execution_count": 196,
   "metadata": {},
   "outputs": [
    {
     "output_type": "execute_result",
     "data": {
      "text/plain": [
       "RangeIndex(start=0, stop=3, step=1)"
      ]
     },
     "metadata": {},
     "execution_count": 196
    }
   ],
   "source": [
    "# 열 index\n",
    "d.columns"
   ]
  },
  {
   "cell_type": "code",
   "execution_count": 197,
   "metadata": {},
   "outputs": [
    {
     "output_type": "execute_result",
     "data": {
      "text/plain": [
       "array([['삼성', 2000, '스마트폰'],\n",
       "       ['현대', 1000, '자동차'],\n",
       "       ['네이버', 500, '포털']], dtype=object)"
      ]
     },
     "metadata": {},
     "execution_count": 197
    }
   ],
   "source": [
    "# values 확인\n",
    "d.values"
   ]
  },
  {
   "cell_type": "code",
   "execution_count": 198,
   "metadata": {},
   "outputs": [
    {
     "output_type": "execute_result",
     "data": {
      "text/plain": [
       "('삼성', 2000)"
      ]
     },
     "metadata": {},
     "execution_count": 198
    }
   ],
   "source": [
    "d.values[0,0], d.values[0,1]"
   ]
  },
  {
   "cell_type": "code",
   "execution_count": 199,
   "metadata": {},
   "outputs": [
    {
     "output_type": "execute_result",
     "data": {
      "text/plain": [
       "(str, int)"
      ]
     },
     "metadata": {},
     "execution_count": 199
    }
   ],
   "source": [
    "type(d.values[0,0]), type(d.values[0,1])"
   ]
  },
  {
   "cell_type": "code",
   "execution_count": 200,
   "metadata": {},
   "outputs": [
    {
     "output_type": "execute_result",
     "data": {
      "text/plain": [
       "    0     1     2\n",
       "0  삼성  2000  스마트폰\n",
       "1  현대  1000   자동차"
      ],
      "text/html": "<div>\n<style scoped>\n    .dataframe tbody tr th:only-of-type {\n        vertical-align: middle;\n    }\n\n    .dataframe tbody tr th {\n        vertical-align: top;\n    }\n\n    .dataframe thead th {\n        text-align: right;\n    }\n</style>\n<table border=\"1\" class=\"dataframe\">\n  <thead>\n    <tr style=\"text-align: right;\">\n      <th></th>\n      <th>0</th>\n      <th>1</th>\n      <th>2</th>\n    </tr>\n  </thead>\n  <tbody>\n    <tr>\n      <th>0</th>\n      <td>삼성</td>\n      <td>2000</td>\n      <td>스마트폰</td>\n    </tr>\n    <tr>\n      <th>1</th>\n      <td>현대</td>\n      <td>1000</td>\n      <td>자동차</td>\n    </tr>\n  </tbody>\n</table>\n</div>"
     },
     "metadata": {},
     "execution_count": 200
    }
   ],
   "source": [
    "d.head(2)"
   ]
  },
  {
   "cell_type": "code",
   "execution_count": 201,
   "metadata": {},
   "outputs": [
    {
     "output_type": "execute_result",
     "data": {
      "text/plain": [
       "     0     1    2\n",
       "1   현대  1000  자동차\n",
       "2  네이버   500   포털"
      ],
      "text/html": "<div>\n<style scoped>\n    .dataframe tbody tr th:only-of-type {\n        vertical-align: middle;\n    }\n\n    .dataframe tbody tr th {\n        vertical-align: top;\n    }\n\n    .dataframe thead th {\n        text-align: right;\n    }\n</style>\n<table border=\"1\" class=\"dataframe\">\n  <thead>\n    <tr style=\"text-align: right;\">\n      <th></th>\n      <th>0</th>\n      <th>1</th>\n      <th>2</th>\n    </tr>\n  </thead>\n  <tbody>\n    <tr>\n      <th>1</th>\n      <td>현대</td>\n      <td>1000</td>\n      <td>자동차</td>\n    </tr>\n    <tr>\n      <th>2</th>\n      <td>네이버</td>\n      <td>500</td>\n      <td>포털</td>\n    </tr>\n  </tbody>\n</table>\n</div>"
     },
     "metadata": {},
     "execution_count": 201
    }
   ],
   "source": [
    "d.tail(2)"
   ]
  },
  {
   "cell_type": "code",
   "execution_count": 202,
   "metadata": {},
   "outputs": [
    {
     "output_type": "execute_result",
     "data": {
      "text/plain": [
       "pandas.core.frame.DataFrame"
      ]
     },
     "metadata": {},
     "execution_count": 202
    }
   ],
   "source": [
    "type(d)"
   ]
  },
  {
   "cell_type": "code",
   "execution_count": 203,
   "metadata": {},
   "outputs": [
    {
     "output_type": "stream",
     "name": "stdout",
     "text": [
      "<class 'pandas.core.frame.DataFrame'>\nRangeIndex: 3 entries, 0 to 2\nData columns (total 3 columns):\n #   Column  Non-Null Count  Dtype \n---  ------  --------------  ----- \n 0   0       3 non-null      object\n 1   1       3 non-null      int64 \n 2   2       3 non-null      object\ndtypes: int64(1), object(2)\nmemory usage: 112.0+ bytes\n"
     ]
    }
   ],
   "source": [
    "# DataFrame의 데이터 구조 파악하기\n",
    "d.info()"
   ]
  },
  {
   "cell_type": "code",
   "execution_count": 204,
   "metadata": {},
   "outputs": [
    {
     "output_type": "execute_result",
     "data": {
      "text/plain": [
       "                 1\n",
       "count     3.000000\n",
       "mean   1166.666667\n",
       "std     763.762616\n",
       "min     500.000000\n",
       "25%     750.000000\n",
       "50%    1000.000000\n",
       "75%    1500.000000\n",
       "max    2000.000000"
      ],
      "text/html": "<div>\n<style scoped>\n    .dataframe tbody tr th:only-of-type {\n        vertical-align: middle;\n    }\n\n    .dataframe tbody tr th {\n        vertical-align: top;\n    }\n\n    .dataframe thead th {\n        text-align: right;\n    }\n</style>\n<table border=\"1\" class=\"dataframe\">\n  <thead>\n    <tr style=\"text-align: right;\">\n      <th></th>\n      <th>1</th>\n    </tr>\n  </thead>\n  <tbody>\n    <tr>\n      <th>count</th>\n      <td>3.000000</td>\n    </tr>\n    <tr>\n      <th>mean</th>\n      <td>1166.666667</td>\n    </tr>\n    <tr>\n      <th>std</th>\n      <td>763.762616</td>\n    </tr>\n    <tr>\n      <th>min</th>\n      <td>500.000000</td>\n    </tr>\n    <tr>\n      <th>25%</th>\n      <td>750.000000</td>\n    </tr>\n    <tr>\n      <th>50%</th>\n      <td>1000.000000</td>\n    </tr>\n    <tr>\n      <th>75%</th>\n      <td>1500.000000</td>\n    </tr>\n    <tr>\n      <th>max</th>\n      <td>2000.000000</td>\n    </tr>\n  </tbody>\n</table>\n</div>"
     },
     "metadata": {},
     "execution_count": 204
    }
   ],
   "source": [
    "# 데이터 통계값 요약해서 보기\n",
    "d.describe()"
   ]
  },
  {
   "cell_type": "code",
   "execution_count": 205,
   "metadata": {},
   "outputs": [
    {
     "output_type": "execute_result",
     "data": {
      "text/plain": [
       "1    1000.0\n",
       "dtype: float64"
      ]
     },
     "metadata": {},
     "execution_count": 205
    }
   ],
   "source": [
    "# 4분위수 (Quartile) : 통계값 중의 하나로 데이터의 분포를 작은 수부터 큰 수까지 나열하여 4등분한 지점\n",
    "# cf) Quantile : 주어진 데이터를 동등하게 분할하는 지점\n",
    "# Q1(25%, 1사분위), Q2(50%, 2사분위), Q3(75%, 3사분위), Q4(100%, 4사분위)\n",
    "# 50% == median(중앙값, 중위값)\n",
    "d.median()\n"
   ]
  },
  {
   "cell_type": "code",
   "execution_count": 206,
   "metadata": {},
   "outputs": [
    {
     "output_type": "execute_result",
     "data": {
      "text/plain": [
       "     0     1     2\n",
       "0   삼성  2000  스마트폰\n",
       "1   현대  1000   자동차\n",
       "2  네이버   500    포털"
      ],
      "text/html": "<div>\n<style scoped>\n    .dataframe tbody tr th:only-of-type {\n        vertical-align: middle;\n    }\n\n    .dataframe tbody tr th {\n        vertical-align: top;\n    }\n\n    .dataframe thead th {\n        text-align: right;\n    }\n</style>\n<table border=\"1\" class=\"dataframe\">\n  <thead>\n    <tr style=\"text-align: right;\">\n      <th></th>\n      <th>0</th>\n      <th>1</th>\n      <th>2</th>\n    </tr>\n  </thead>\n  <tbody>\n    <tr>\n      <th>0</th>\n      <td>삼성</td>\n      <td>2000</td>\n      <td>스마트폰</td>\n    </tr>\n    <tr>\n      <th>1</th>\n      <td>현대</td>\n      <td>1000</td>\n      <td>자동차</td>\n    </tr>\n    <tr>\n      <th>2</th>\n      <td>네이버</td>\n      <td>500</td>\n      <td>포털</td>\n    </tr>\n  </tbody>\n</table>\n</div>"
     },
     "metadata": {},
     "execution_count": 206
    }
   ],
   "source": [
    "d"
   ]
  },
  {
   "cell_type": "code",
   "execution_count": 207,
   "metadata": {},
   "outputs": [
    {
     "output_type": "execute_result",
     "data": {
      "text/plain": [
       "   기업명    주가    업종\n",
       "1   삼성  2000  스마트폰\n",
       "2   현대  1000   자동차\n",
       "3  네이버   500    포털"
      ],
      "text/html": "<div>\n<style scoped>\n    .dataframe tbody tr th:only-of-type {\n        vertical-align: middle;\n    }\n\n    .dataframe tbody tr th {\n        vertical-align: top;\n    }\n\n    .dataframe thead th {\n        text-align: right;\n    }\n</style>\n<table border=\"1\" class=\"dataframe\">\n  <thead>\n    <tr style=\"text-align: right;\">\n      <th></th>\n      <th>기업명</th>\n      <th>주가</th>\n      <th>업종</th>\n    </tr>\n  </thead>\n  <tbody>\n    <tr>\n      <th>1</th>\n      <td>삼성</td>\n      <td>2000</td>\n      <td>스마트폰</td>\n    </tr>\n    <tr>\n      <th>2</th>\n      <td>현대</td>\n      <td>1000</td>\n      <td>자동차</td>\n    </tr>\n    <tr>\n      <th>3</th>\n      <td>네이버</td>\n      <td>500</td>\n      <td>포털</td>\n    </tr>\n  </tbody>\n</table>\n</div>"
     },
     "metadata": {},
     "execution_count": 207
    }
   ],
   "source": [
    "# 2. value와 index 둘다 주기\n",
    "index = [1,2,3]\n",
    "columns = ['기업명', '주가', '업종']\n",
    "data = [['삼성', 2000, '스마트폰'],\n",
    "        ['현대', 1000, '자동차'],\n",
    "        ['네이버', 500, '포털']]\n",
    "d = pd.DataFrame(data = data, index = index, columns = columns)\n",
    "d"
   ]
  },
  {
   "cell_type": "code",
   "execution_count": 208,
   "metadata": {},
   "outputs": [
    {
     "output_type": "execute_result",
     "data": {
      "text/plain": [
       "Int64Index([1, 2, 3], dtype='int64')"
      ]
     },
     "metadata": {},
     "execution_count": 208
    }
   ],
   "source": [
    "d.index"
   ]
  },
  {
   "cell_type": "code",
   "execution_count": 209,
   "metadata": {},
   "outputs": [
    {
     "output_type": "execute_result",
     "data": {
      "text/plain": [
       "Index(['기업명', '주가', '업종'], dtype='object')"
      ]
     },
     "metadata": {},
     "execution_count": 209
    }
   ],
   "source": [
    "d.columns"
   ]
  },
  {
   "cell_type": "code",
   "execution_count": 210,
   "metadata": {},
   "outputs": [
    {
     "output_type": "execute_result",
     "data": {
      "text/plain": [
       "array([['삼성', 2000, '스마트폰'],\n",
       "       ['현대', 1000, '자동차'],\n",
       "       ['네이버', 500, '포털']], dtype=object)"
      ]
     },
     "metadata": {},
     "execution_count": 210
    }
   ],
   "source": [
    "d.values"
   ]
  },
  {
   "cell_type": "code",
   "execution_count": 211,
   "metadata": {},
   "outputs": [
    {
     "output_type": "execute_result",
     "data": {
      "text/plain": [
       "   기업명    주가    업종\n",
       "1   삼성  2000  스마트폰\n",
       "2   현대  1000   자동차\n",
       "3  네이버   500    포털"
      ],
      "text/html": "<div>\n<style scoped>\n    .dataframe tbody tr th:only-of-type {\n        vertical-align: middle;\n    }\n\n    .dataframe tbody tr th {\n        vertical-align: top;\n    }\n\n    .dataframe thead th {\n        text-align: right;\n    }\n</style>\n<table border=\"1\" class=\"dataframe\">\n  <thead>\n    <tr style=\"text-align: right;\">\n      <th></th>\n      <th>기업명</th>\n      <th>주가</th>\n      <th>업종</th>\n    </tr>\n  </thead>\n  <tbody>\n    <tr>\n      <th>1</th>\n      <td>삼성</td>\n      <td>2000</td>\n      <td>스마트폰</td>\n    </tr>\n    <tr>\n      <th>2</th>\n      <td>현대</td>\n      <td>1000</td>\n      <td>자동차</td>\n    </tr>\n    <tr>\n      <th>3</th>\n      <td>네이버</td>\n      <td>500</td>\n      <td>포털</td>\n    </tr>\n  </tbody>\n</table>\n</div>"
     },
     "metadata": {},
     "execution_count": 211
    }
   ],
   "source": [
    "# 3. 딕셔너리로 만들기 (열 기준으로 만듦)\n",
    "data = {\n",
    "    '기업명' : ['삼성','현대','네이버'],\n",
    "    '주가' : [2000,1000,500],\n",
    "    '업종' : ['스마트폰','자동차','포털']\n",
    "}\n",
    "d2 = pd.DataFrame(data = data, index = index)\n",
    "d2"
   ]
  },
  {
   "cell_type": "code",
   "execution_count": 212,
   "metadata": {},
   "outputs": [
    {
     "output_type": "execute_result",
     "data": {
      "text/plain": [
       "    기업명    주가    업종\n",
       "순서                 \n",
       "1    삼성  2000  스마트폰\n",
       "2    현대  1000   자동차\n",
       "3   네이버   500    포털"
      ],
      "text/html": "<div>\n<style scoped>\n    .dataframe tbody tr th:only-of-type {\n        vertical-align: middle;\n    }\n\n    .dataframe tbody tr th {\n        vertical-align: top;\n    }\n\n    .dataframe thead th {\n        text-align: right;\n    }\n</style>\n<table border=\"1\" class=\"dataframe\">\n  <thead>\n    <tr style=\"text-align: right;\">\n      <th></th>\n      <th>기업명</th>\n      <th>주가</th>\n      <th>업종</th>\n    </tr>\n    <tr>\n      <th>순서</th>\n      <th></th>\n      <th></th>\n      <th></th>\n    </tr>\n  </thead>\n  <tbody>\n    <tr>\n      <th>1</th>\n      <td>삼성</td>\n      <td>2000</td>\n      <td>스마트폰</td>\n    </tr>\n    <tr>\n      <th>2</th>\n      <td>현대</td>\n      <td>1000</td>\n      <td>자동차</td>\n    </tr>\n    <tr>\n      <th>3</th>\n      <td>네이버</td>\n      <td>500</td>\n      <td>포털</td>\n    </tr>\n  </tbody>\n</table>\n</div>"
     },
     "metadata": {},
     "execution_count": 212
    }
   ],
   "source": [
    "# 행 인덱스 이름 주기\n",
    "d.index.name = '순서'\n",
    "d"
   ]
  },
  {
   "cell_type": "code",
   "execution_count": 213,
   "metadata": {},
   "outputs": [
    {
     "output_type": "execute_result",
     "data": {
      "text/plain": [
       "항목  기업명    주가    업종\n",
       "순서                 \n",
       "1    삼성  2000  스마트폰\n",
       "2    현대  1000   자동차\n",
       "3   네이버   500    포털"
      ],
      "text/html": "<div>\n<style scoped>\n    .dataframe tbody tr th:only-of-type {\n        vertical-align: middle;\n    }\n\n    .dataframe tbody tr th {\n        vertical-align: top;\n    }\n\n    .dataframe thead th {\n        text-align: right;\n    }\n</style>\n<table border=\"1\" class=\"dataframe\">\n  <thead>\n    <tr style=\"text-align: right;\">\n      <th>항목</th>\n      <th>기업명</th>\n      <th>주가</th>\n      <th>업종</th>\n    </tr>\n    <tr>\n      <th>순서</th>\n      <th></th>\n      <th></th>\n      <th></th>\n    </tr>\n  </thead>\n  <tbody>\n    <tr>\n      <th>1</th>\n      <td>삼성</td>\n      <td>2000</td>\n      <td>스마트폰</td>\n    </tr>\n    <tr>\n      <th>2</th>\n      <td>현대</td>\n      <td>1000</td>\n      <td>자동차</td>\n    </tr>\n    <tr>\n      <th>3</th>\n      <td>네이버</td>\n      <td>500</td>\n      <td>포털</td>\n    </tr>\n  </tbody>\n</table>\n</div>"
     },
     "metadata": {},
     "execution_count": 213
    }
   ],
   "source": [
    "# 열 인덱스 이름 주기\n",
    "d.columns.name = '항목'\n",
    "d"
   ]
  },
  {
   "cell_type": "markdown",
   "metadata": {},
   "source": [
    "## 3-2. DataFrame 인덱싱과 슬라이싱"
   ]
  },
  {
   "cell_type": "code",
   "execution_count": 214,
   "metadata": {},
   "outputs": [
    {
     "output_type": "execute_result",
     "data": {
      "text/plain": [
       "항목  기업명    주가    업종\n",
       "순서                 \n",
       "1    삼성  2000  스마트폰\n",
       "2    현대  1000   자동차\n",
       "3   네이버   500    포털"
      ],
      "text/html": "<div>\n<style scoped>\n    .dataframe tbody tr th:only-of-type {\n        vertical-align: middle;\n    }\n\n    .dataframe tbody tr th {\n        vertical-align: top;\n    }\n\n    .dataframe thead th {\n        text-align: right;\n    }\n</style>\n<table border=\"1\" class=\"dataframe\">\n  <thead>\n    <tr style=\"text-align: right;\">\n      <th>항목</th>\n      <th>기업명</th>\n      <th>주가</th>\n      <th>업종</th>\n    </tr>\n    <tr>\n      <th>순서</th>\n      <th></th>\n      <th></th>\n      <th></th>\n    </tr>\n  </thead>\n  <tbody>\n    <tr>\n      <th>1</th>\n      <td>삼성</td>\n      <td>2000</td>\n      <td>스마트폰</td>\n    </tr>\n    <tr>\n      <th>2</th>\n      <td>현대</td>\n      <td>1000</td>\n      <td>자동차</td>\n    </tr>\n    <tr>\n      <th>3</th>\n      <td>네이버</td>\n      <td>500</td>\n      <td>포털</td>\n    </tr>\n  </tbody>\n</table>\n</div>"
     },
     "metadata": {},
     "execution_count": 214
    }
   ],
   "source": [
    "# 열 인덱싱\n",
    "d\n"
   ]
  },
  {
   "cell_type": "code",
   "execution_count": 215,
   "metadata": {},
   "outputs": [
    {
     "output_type": "execute_result",
     "data": {
      "text/plain": [
       "순서\n",
       "1     삼성\n",
       "2     현대\n",
       "3    네이버\n",
       "Name: 기업명, dtype: object"
      ]
     },
     "metadata": {},
     "execution_count": 215
    }
   ],
   "source": [
    "d['기업명']"
   ]
  },
  {
   "cell_type": "code",
   "execution_count": 216,
   "metadata": {},
   "outputs": [
    {
     "output_type": "execute_result",
     "data": {
      "text/plain": [
       "pandas.core.series.Series"
      ]
     },
     "metadata": {},
     "execution_count": 216
    }
   ],
   "source": [
    "type(d['기업명'])"
   ]
  },
  {
   "cell_type": "code",
   "execution_count": 217,
   "metadata": {},
   "outputs": [
    {
     "output_type": "execute_result",
     "data": {
      "text/plain": [
       "항목  기업명    업종\n",
       "순서           \n",
       "1    삼성  스마트폰\n",
       "2    현대   자동차\n",
       "3   네이버    포털"
      ],
      "text/html": "<div>\n<style scoped>\n    .dataframe tbody tr th:only-of-type {\n        vertical-align: middle;\n    }\n\n    .dataframe tbody tr th {\n        vertical-align: top;\n    }\n\n    .dataframe thead th {\n        text-align: right;\n    }\n</style>\n<table border=\"1\" class=\"dataframe\">\n  <thead>\n    <tr style=\"text-align: right;\">\n      <th>항목</th>\n      <th>기업명</th>\n      <th>업종</th>\n    </tr>\n    <tr>\n      <th>순서</th>\n      <th></th>\n      <th></th>\n    </tr>\n  </thead>\n  <tbody>\n    <tr>\n      <th>1</th>\n      <td>삼성</td>\n      <td>스마트폰</td>\n    </tr>\n    <tr>\n      <th>2</th>\n      <td>현대</td>\n      <td>자동차</td>\n    </tr>\n    <tr>\n      <th>3</th>\n      <td>네이버</td>\n      <td>포털</td>\n    </tr>\n  </tbody>\n</table>\n</div>"
     },
     "metadata": {},
     "execution_count": 217
    }
   ],
   "source": [
    "a = d[['기업명', '업종']]\n",
    "a"
   ]
  },
  {
   "cell_type": "code",
   "execution_count": 218,
   "metadata": {},
   "outputs": [
    {
     "output_type": "execute_result",
     "data": {
      "text/plain": [
       "pandas.core.frame.DataFrame"
      ]
     },
     "metadata": {},
     "execution_count": 218
    }
   ],
   "source": [
    "type(a)"
   ]
  },
  {
   "cell_type": "code",
   "execution_count": 219,
   "metadata": {},
   "outputs": [
    {
     "output_type": "execute_result",
     "data": {
      "text/plain": [
       "항목  기업명\n",
       "순서     \n",
       "1    삼성\n",
       "2    현대\n",
       "3   네이버"
      ],
      "text/html": "<div>\n<style scoped>\n    .dataframe tbody tr th:only-of-type {\n        vertical-align: middle;\n    }\n\n    .dataframe tbody tr th {\n        vertical-align: top;\n    }\n\n    .dataframe thead th {\n        text-align: right;\n    }\n</style>\n<table border=\"1\" class=\"dataframe\">\n  <thead>\n    <tr style=\"text-align: right;\">\n      <th>항목</th>\n      <th>기업명</th>\n    </tr>\n    <tr>\n      <th>순서</th>\n      <th></th>\n    </tr>\n  </thead>\n  <tbody>\n    <tr>\n      <th>1</th>\n      <td>삼성</td>\n    </tr>\n    <tr>\n      <th>2</th>\n      <td>현대</td>\n    </tr>\n    <tr>\n      <th>3</th>\n      <td>네이버</td>\n    </tr>\n  </tbody>\n</table>\n</div>"
     },
     "metadata": {},
     "execution_count": 219
    }
   ],
   "source": [
    "d[['기업명']]"
   ]
  },
  {
   "cell_type": "code",
   "execution_count": 220,
   "metadata": {},
   "outputs": [
    {
     "output_type": "execute_result",
     "data": {
      "text/plain": [
       "항목  기업명    주가    업종\n",
       "순서                 \n",
       "1    삼성  2000  스마트폰\n",
       "2    현대  1000   자동차\n",
       "3   네이버   500    포털"
      ],
      "text/html": "<div>\n<style scoped>\n    .dataframe tbody tr th:only-of-type {\n        vertical-align: middle;\n    }\n\n    .dataframe tbody tr th {\n        vertical-align: top;\n    }\n\n    .dataframe thead th {\n        text-align: right;\n    }\n</style>\n<table border=\"1\" class=\"dataframe\">\n  <thead>\n    <tr style=\"text-align: right;\">\n      <th>항목</th>\n      <th>기업명</th>\n      <th>주가</th>\n      <th>업종</th>\n    </tr>\n    <tr>\n      <th>순서</th>\n      <th></th>\n      <th></th>\n      <th></th>\n    </tr>\n  </thead>\n  <tbody>\n    <tr>\n      <th>1</th>\n      <td>삼성</td>\n      <td>2000</td>\n      <td>스마트폰</td>\n    </tr>\n    <tr>\n      <th>2</th>\n      <td>현대</td>\n      <td>1000</td>\n      <td>자동차</td>\n    </tr>\n    <tr>\n      <th>3</th>\n      <td>네이버</td>\n      <td>500</td>\n      <td>포털</td>\n    </tr>\n  </tbody>\n</table>\n</div>"
     },
     "metadata": {},
     "execution_count": 220
    }
   ],
   "source": [
    "d"
   ]
  },
  {
   "cell_type": "code",
   "execution_count": 221,
   "metadata": {},
   "outputs": [
    {
     "output_type": "execute_result",
     "data": {
      "text/plain": [
       "항목   기업명    주가    업종\n",
       "기업명                 \n",
       "삼성    삼성  2000  스마트폰\n",
       "현대    현대  1000   자동차\n",
       "네이버  네이버   500    포털"
      ],
      "text/html": "<div>\n<style scoped>\n    .dataframe tbody tr th:only-of-type {\n        vertical-align: middle;\n    }\n\n    .dataframe tbody tr th {\n        vertical-align: top;\n    }\n\n    .dataframe thead th {\n        text-align: right;\n    }\n</style>\n<table border=\"1\" class=\"dataframe\">\n  <thead>\n    <tr style=\"text-align: right;\">\n      <th>항목</th>\n      <th>기업명</th>\n      <th>주가</th>\n      <th>업종</th>\n    </tr>\n    <tr>\n      <th>기업명</th>\n      <th></th>\n      <th></th>\n      <th></th>\n    </tr>\n  </thead>\n  <tbody>\n    <tr>\n      <th>삼성</th>\n      <td>삼성</td>\n      <td>2000</td>\n      <td>스마트폰</td>\n    </tr>\n    <tr>\n      <th>현대</th>\n      <td>현대</td>\n      <td>1000</td>\n      <td>자동차</td>\n    </tr>\n    <tr>\n      <th>네이버</th>\n      <td>네이버</td>\n      <td>500</td>\n      <td>포털</td>\n    </tr>\n  </tbody>\n</table>\n</div>"
     },
     "metadata": {},
     "execution_count": 221
    }
   ],
   "source": [
    "# 기업명 -> 행 인덱스로 옮기기\n",
    "d.index = d['기업명']\n",
    "d"
   ]
  },
  {
   "cell_type": "code",
   "execution_count": 222,
   "metadata": {},
   "outputs": [
    {
     "output_type": "execute_result",
     "data": {
      "text/plain": [
       "항목     주가    업종\n",
       "기업명            \n",
       "삼성   2000  스마트폰\n",
       "현대   1000   자동차\n",
       "네이버   500    포털"
      ],
      "text/html": "<div>\n<style scoped>\n    .dataframe tbody tr th:only-of-type {\n        vertical-align: middle;\n    }\n\n    .dataframe tbody tr th {\n        vertical-align: top;\n    }\n\n    .dataframe thead th {\n        text-align: right;\n    }\n</style>\n<table border=\"1\" class=\"dataframe\">\n  <thead>\n    <tr style=\"text-align: right;\">\n      <th>항목</th>\n      <th>주가</th>\n      <th>업종</th>\n    </tr>\n    <tr>\n      <th>기업명</th>\n      <th></th>\n      <th></th>\n    </tr>\n  </thead>\n  <tbody>\n    <tr>\n      <th>삼성</th>\n      <td>2000</td>\n      <td>스마트폰</td>\n    </tr>\n    <tr>\n      <th>현대</th>\n      <td>1000</td>\n      <td>자동차</td>\n    </tr>\n    <tr>\n      <th>네이버</th>\n      <td>500</td>\n      <td>포털</td>\n    </tr>\n  </tbody>\n</table>\n</div>"
     },
     "metadata": {},
     "execution_count": 222
    }
   ],
   "source": [
    "del d['기업명']\n",
    "d"
   ]
  },
  {
   "cell_type": "code",
   "execution_count": 223,
   "metadata": {},
   "outputs": [
    {
     "output_type": "execute_result",
     "data": {
      "text/plain": [
       "항목     주가    업종  발행주식수\n",
       "기업명                   \n",
       "삼성   2000  스마트폰  30000\n",
       "현대   1000   자동차  20000\n",
       "네이버   500    포털  10000"
      ],
      "text/html": "<div>\n<style scoped>\n    .dataframe tbody tr th:only-of-type {\n        vertical-align: middle;\n    }\n\n    .dataframe tbody tr th {\n        vertical-align: top;\n    }\n\n    .dataframe thead th {\n        text-align: right;\n    }\n</style>\n<table border=\"1\" class=\"dataframe\">\n  <thead>\n    <tr style=\"text-align: right;\">\n      <th>항목</th>\n      <th>주가</th>\n      <th>업종</th>\n      <th>발행주식수</th>\n    </tr>\n    <tr>\n      <th>기업명</th>\n      <th></th>\n      <th></th>\n      <th></th>\n    </tr>\n  </thead>\n  <tbody>\n    <tr>\n      <th>삼성</th>\n      <td>2000</td>\n      <td>스마트폰</td>\n      <td>30000</td>\n    </tr>\n    <tr>\n      <th>현대</th>\n      <td>1000</td>\n      <td>자동차</td>\n      <td>20000</td>\n    </tr>\n    <tr>\n      <th>네이버</th>\n      <td>500</td>\n      <td>포털</td>\n      <td>10000</td>\n    </tr>\n  </tbody>\n</table>\n</div>"
     },
     "metadata": {},
     "execution_count": 223
    }
   ],
   "source": [
    "# 열 추가\n",
    "d['발행주식수'] = [30000, 20000, 10000]\n",
    "d"
   ]
  },
  {
   "cell_type": "code",
   "execution_count": 224,
   "metadata": {},
   "outputs": [
    {
     "output_type": "execute_result",
     "data": {
      "text/plain": [
       "항목\n",
       "주가        2000\n",
       "업종        스마트폰\n",
       "발행주식수    30000\n",
       "Name: 삼성, dtype: object"
      ]
     },
     "metadata": {},
     "execution_count": 224
    }
   ],
   "source": [
    "# 행 인덱싱\n",
    "# 1. loc (label location) : 인덱스 라벨을 통해서 인덱싱\n",
    "d.loc['삼성']"
   ]
  },
  {
   "cell_type": "code",
   "execution_count": 225,
   "metadata": {},
   "outputs": [
    {
     "output_type": "execute_result",
     "data": {
      "text/plain": [
       "항목     주가    업종  발행주식수\n",
       "기업명                   \n",
       "삼성   2000  스마트폰  30000\n",
       "네이버   500    포털  10000"
      ],
      "text/html": "<div>\n<style scoped>\n    .dataframe tbody tr th:only-of-type {\n        vertical-align: middle;\n    }\n\n    .dataframe tbody tr th {\n        vertical-align: top;\n    }\n\n    .dataframe thead th {\n        text-align: right;\n    }\n</style>\n<table border=\"1\" class=\"dataframe\">\n  <thead>\n    <tr style=\"text-align: right;\">\n      <th>항목</th>\n      <th>주가</th>\n      <th>업종</th>\n      <th>발행주식수</th>\n    </tr>\n    <tr>\n      <th>기업명</th>\n      <th></th>\n      <th></th>\n      <th></th>\n    </tr>\n  </thead>\n  <tbody>\n    <tr>\n      <th>삼성</th>\n      <td>2000</td>\n      <td>스마트폰</td>\n      <td>30000</td>\n    </tr>\n    <tr>\n      <th>네이버</th>\n      <td>500</td>\n      <td>포털</td>\n      <td>10000</td>\n    </tr>\n  </tbody>\n</table>\n</div>"
     },
     "metadata": {},
     "execution_count": 225
    }
   ],
   "source": [
    "d.loc[['삼성','네이버']]"
   ]
  },
  {
   "cell_type": "code",
   "execution_count": 226,
   "metadata": {},
   "outputs": [
    {
     "output_type": "execute_result",
     "data": {
      "text/plain": [
       "항목\n",
       "주가        2000\n",
       "업종        스마트폰\n",
       "발행주식수    30000\n",
       "Name: 삼성, dtype: object"
      ]
     },
     "metadata": {},
     "execution_count": 226
    }
   ],
   "source": [
    "# 2. iloc (integer location) (0인덱스를 사용해서 인덱싱)\n",
    "d.iloc[0]"
   ]
  },
  {
   "cell_type": "code",
   "execution_count": 227,
   "metadata": {},
   "outputs": [
    {
     "output_type": "execute_result",
     "data": {
      "text/plain": [
       "항목     주가    업종  발행주식수\n",
       "기업명                   \n",
       "네이버   500    포털  10000\n",
       "삼성   2000  스마트폰  30000"
      ],
      "text/html": "<div>\n<style scoped>\n    .dataframe tbody tr th:only-of-type {\n        vertical-align: middle;\n    }\n\n    .dataframe tbody tr th {\n        vertical-align: top;\n    }\n\n    .dataframe thead th {\n        text-align: right;\n    }\n</style>\n<table border=\"1\" class=\"dataframe\">\n  <thead>\n    <tr style=\"text-align: right;\">\n      <th>항목</th>\n      <th>주가</th>\n      <th>업종</th>\n      <th>발행주식수</th>\n    </tr>\n    <tr>\n      <th>기업명</th>\n      <th></th>\n      <th></th>\n      <th></th>\n    </tr>\n  </thead>\n  <tbody>\n    <tr>\n      <th>네이버</th>\n      <td>500</td>\n      <td>포털</td>\n      <td>10000</td>\n    </tr>\n    <tr>\n      <th>삼성</th>\n      <td>2000</td>\n      <td>스마트폰</td>\n      <td>30000</td>\n    </tr>\n  </tbody>\n</table>\n</div>"
     },
     "metadata": {},
     "execution_count": 227
    }
   ],
   "source": [
    "d.iloc[[-1,0]]"
   ]
  },
  {
   "cell_type": "code",
   "execution_count": 228,
   "metadata": {},
   "outputs": [
    {
     "output_type": "execute_result",
     "data": {
      "text/plain": [
       "항목\n",
       "주가         500\n",
       "업종          포털\n",
       "발행주식수    10000\n",
       "Name: 네이버, dtype: object"
      ]
     },
     "metadata": {},
     "execution_count": 228
    }
   ],
   "source": [
    "d.iloc[-1]"
   ]
  },
  {
   "cell_type": "code",
   "execution_count": 229,
   "metadata": {},
   "outputs": [
    {
     "output_type": "execute_result",
     "data": {
      "text/plain": [
       "항목     주가    업종  발행주식수\n",
       "기업명                   \n",
       "삼성   2000  스마트폰  30000\n",
       "네이버   500    포털  10000"
      ],
      "text/html": "<div>\n<style scoped>\n    .dataframe tbody tr th:only-of-type {\n        vertical-align: middle;\n    }\n\n    .dataframe tbody tr th {\n        vertical-align: top;\n    }\n\n    .dataframe thead th {\n        text-align: right;\n    }\n</style>\n<table border=\"1\" class=\"dataframe\">\n  <thead>\n    <tr style=\"text-align: right;\">\n      <th>항목</th>\n      <th>주가</th>\n      <th>업종</th>\n      <th>발행주식수</th>\n    </tr>\n    <tr>\n      <th>기업명</th>\n      <th></th>\n      <th></th>\n      <th></th>\n    </tr>\n  </thead>\n  <tbody>\n    <tr>\n      <th>삼성</th>\n      <td>2000</td>\n      <td>스마트폰</td>\n      <td>30000</td>\n    </tr>\n    <tr>\n      <th>네이버</th>\n      <td>500</td>\n      <td>포털</td>\n      <td>10000</td>\n    </tr>\n  </tbody>\n</table>\n</div>"
     },
     "metadata": {},
     "execution_count": 229
    }
   ],
   "source": [
    "d.iloc[::2]"
   ]
  },
  {
   "cell_type": "code",
   "execution_count": 230,
   "metadata": {},
   "outputs": [
    {
     "output_type": "execute_result",
     "data": {
      "text/plain": [
       "'스마트폰'"
      ]
     },
     "metadata": {},
     "execution_count": 230
    }
   ],
   "source": [
    "d.iloc[0,1]  # 중요! iloc 안에서 괄호 개수 확인!!"
   ]
  },
  {
   "cell_type": "code",
   "execution_count": 231,
   "metadata": {},
   "outputs": [
    {
     "output_type": "execute_result",
     "data": {
      "text/plain": [
       "기업명\n",
       "삼성     스마트폰\n",
       "현대      자동차\n",
       "네이버      포털\n",
       "Name: 업종, dtype: object"
      ]
     },
     "metadata": {},
     "execution_count": 231
    }
   ],
   "source": [
    "# 열 데이터 -> 행 데이터\n",
    "d['업종']"
   ]
  },
  {
   "cell_type": "code",
   "execution_count": 232,
   "metadata": {},
   "outputs": [
    {
     "output_type": "execute_result",
     "data": {
      "text/plain": [
       "'스마트폰'"
      ]
     },
     "metadata": {},
     "execution_count": 232
    }
   ],
   "source": [
    "d['업종']['삼성']"
   ]
  },
  {
   "cell_type": "code",
   "execution_count": 233,
   "metadata": {},
   "outputs": [
    {
     "output_type": "execute_result",
     "data": {
      "text/plain": [
       "항목\n",
       "주가        2000\n",
       "업종        스마트폰\n",
       "발행주식수    30000\n",
       "Name: 삼성, dtype: object"
      ]
     },
     "metadata": {},
     "execution_count": 233
    }
   ],
   "source": [
    "# 행 데이터 -> 열 데이터\n",
    "d.loc['삼성']"
   ]
  },
  {
   "cell_type": "code",
   "execution_count": 234,
   "metadata": {},
   "outputs": [
    {
     "output_type": "execute_result",
     "data": {
      "text/plain": [
       "'스마트폰'"
      ]
     },
     "metadata": {},
     "execution_count": 234
    }
   ],
   "source": [
    "d.loc['삼성']['업종']"
   ]
  },
  {
   "cell_type": "code",
   "execution_count": 235,
   "metadata": {},
   "outputs": [
    {
     "output_type": "execute_result",
     "data": {
      "text/plain": [
       "'스마트폰'"
      ]
     },
     "metadata": {},
     "execution_count": 235
    }
   ],
   "source": [
    "d.loc['삼성','업종']"
   ]
  },
  {
   "cell_type": "code",
   "execution_count": 236,
   "metadata": {},
   "outputs": [
    {
     "output_type": "execute_result",
     "data": {
      "text/plain": [
       "'스마트폰'"
      ]
     },
     "metadata": {},
     "execution_count": 236
    }
   ],
   "source": [
    "d.iloc[0,1]"
   ]
  },
  {
   "cell_type": "code",
   "execution_count": 237,
   "metadata": {},
   "outputs": [
    {
     "output_type": "execute_result",
     "data": {
      "text/plain": [
       "항목     주가    업종  발행주식수\n",
       "기업명                   \n",
       "삼성   2000  스마트폰  30000\n",
       "현대   1000   자동차  20000\n",
       "네이버   500    포털  10000"
      ],
      "text/html": "<div>\n<style scoped>\n    .dataframe tbody tr th:only-of-type {\n        vertical-align: middle;\n    }\n\n    .dataframe tbody tr th {\n        vertical-align: top;\n    }\n\n    .dataframe thead th {\n        text-align: right;\n    }\n</style>\n<table border=\"1\" class=\"dataframe\">\n  <thead>\n    <tr style=\"text-align: right;\">\n      <th>항목</th>\n      <th>주가</th>\n      <th>업종</th>\n      <th>발행주식수</th>\n    </tr>\n    <tr>\n      <th>기업명</th>\n      <th></th>\n      <th></th>\n      <th></th>\n    </tr>\n  </thead>\n  <tbody>\n    <tr>\n      <th>삼성</th>\n      <td>2000</td>\n      <td>스마트폰</td>\n      <td>30000</td>\n    </tr>\n    <tr>\n      <th>현대</th>\n      <td>1000</td>\n      <td>자동차</td>\n      <td>20000</td>\n    </tr>\n    <tr>\n      <th>네이버</th>\n      <td>500</td>\n      <td>포털</td>\n      <td>10000</td>\n    </tr>\n  </tbody>\n</table>\n</div>"
     },
     "metadata": {},
     "execution_count": 237
    }
   ],
   "source": [
    "# 슬라이싱 [start:end:step]\n",
    "d"
   ]
  },
  {
   "cell_type": "code",
   "execution_count": 238,
   "metadata": {},
   "outputs": [
    {
     "output_type": "execute_result",
     "data": {
      "text/plain": [
       "항목     주가    업종  발행주식수\n",
       "기업명                   \n",
       "삼성   2000  스마트폰  30000\n",
       "현대   1000   자동차  20000"
      ],
      "text/html": "<div>\n<style scoped>\n    .dataframe tbody tr th:only-of-type {\n        vertical-align: middle;\n    }\n\n    .dataframe tbody tr th {\n        vertical-align: top;\n    }\n\n    .dataframe thead th {\n        text-align: right;\n    }\n</style>\n<table border=\"1\" class=\"dataframe\">\n  <thead>\n    <tr style=\"text-align: right;\">\n      <th>항목</th>\n      <th>주가</th>\n      <th>업종</th>\n      <th>발행주식수</th>\n    </tr>\n    <tr>\n      <th>기업명</th>\n      <th></th>\n      <th></th>\n      <th></th>\n    </tr>\n  </thead>\n  <tbody>\n    <tr>\n      <th>삼성</th>\n      <td>2000</td>\n      <td>스마트폰</td>\n      <td>30000</td>\n    </tr>\n    <tr>\n      <th>현대</th>\n      <td>1000</td>\n      <td>자동차</td>\n      <td>20000</td>\n    </tr>\n  </tbody>\n</table>\n</div>"
     },
     "metadata": {},
     "execution_count": 238
    }
   ],
   "source": [
    "# 행 슬라이싱\n",
    "d[:2]\n"
   ]
  },
  {
   "cell_type": "code",
   "execution_count": 239,
   "metadata": {},
   "outputs": [
    {
     "output_type": "execute_result",
     "data": {
      "text/plain": [
       "항목     주가   업종  발행주식수\n",
       "기업명                  \n",
       "현대   1000  자동차  20000\n",
       "네이버   500   포털  10000"
      ],
      "text/html": "<div>\n<style scoped>\n    .dataframe tbody tr th:only-of-type {\n        vertical-align: middle;\n    }\n\n    .dataframe tbody tr th {\n        vertical-align: top;\n    }\n\n    .dataframe thead th {\n        text-align: right;\n    }\n</style>\n<table border=\"1\" class=\"dataframe\">\n  <thead>\n    <tr style=\"text-align: right;\">\n      <th>항목</th>\n      <th>주가</th>\n      <th>업종</th>\n      <th>발행주식수</th>\n    </tr>\n    <tr>\n      <th>기업명</th>\n      <th></th>\n      <th></th>\n      <th></th>\n    </tr>\n  </thead>\n  <tbody>\n    <tr>\n      <th>현대</th>\n      <td>1000</td>\n      <td>자동차</td>\n      <td>20000</td>\n    </tr>\n    <tr>\n      <th>네이버</th>\n      <td>500</td>\n      <td>포털</td>\n      <td>10000</td>\n    </tr>\n  </tbody>\n</table>\n</div>"
     },
     "metadata": {},
     "execution_count": 239
    }
   ],
   "source": [
    "d[1:]"
   ]
  },
  {
   "cell_type": "code",
   "execution_count": 240,
   "metadata": {},
   "outputs": [
    {
     "output_type": "execute_result",
     "data": {
      "text/plain": [
       "항목     주가    업종  발행주식수\n",
       "기업명                   \n",
       "삼성   2000  스마트폰  30000\n",
       "현대   1000   자동차  20000\n",
       "네이버   500    포털  10000"
      ],
      "text/html": "<div>\n<style scoped>\n    .dataframe tbody tr th:only-of-type {\n        vertical-align: middle;\n    }\n\n    .dataframe tbody tr th {\n        vertical-align: top;\n    }\n\n    .dataframe thead th {\n        text-align: right;\n    }\n</style>\n<table border=\"1\" class=\"dataframe\">\n  <thead>\n    <tr style=\"text-align: right;\">\n      <th>항목</th>\n      <th>주가</th>\n      <th>업종</th>\n      <th>발행주식수</th>\n    </tr>\n    <tr>\n      <th>기업명</th>\n      <th></th>\n      <th></th>\n      <th></th>\n    </tr>\n  </thead>\n  <tbody>\n    <tr>\n      <th>삼성</th>\n      <td>2000</td>\n      <td>스마트폰</td>\n      <td>30000</td>\n    </tr>\n    <tr>\n      <th>현대</th>\n      <td>1000</td>\n      <td>자동차</td>\n      <td>20000</td>\n    </tr>\n    <tr>\n      <th>네이버</th>\n      <td>500</td>\n      <td>포털</td>\n      <td>10000</td>\n    </tr>\n  </tbody>\n</table>\n</div>"
     },
     "metadata": {},
     "execution_count": 240
    }
   ],
   "source": [
    "d[:'네이버']"
   ]
  },
  {
   "cell_type": "code",
   "execution_count": 241,
   "metadata": {},
   "outputs": [
    {
     "output_type": "execute_result",
     "data": {
      "text/plain": [
       "항목     주가    업종  발행주식수\n",
       "기업명                   \n",
       "삼성   2000  스마트폰  30000\n",
       "현대   1000   자동차  20000"
      ],
      "text/html": "<div>\n<style scoped>\n    .dataframe tbody tr th:only-of-type {\n        vertical-align: middle;\n    }\n\n    .dataframe tbody tr th {\n        vertical-align: top;\n    }\n\n    .dataframe thead th {\n        text-align: right;\n    }\n</style>\n<table border=\"1\" class=\"dataframe\">\n  <thead>\n    <tr style=\"text-align: right;\">\n      <th>항목</th>\n      <th>주가</th>\n      <th>업종</th>\n      <th>발행주식수</th>\n    </tr>\n    <tr>\n      <th>기업명</th>\n      <th></th>\n      <th></th>\n      <th></th>\n    </tr>\n  </thead>\n  <tbody>\n    <tr>\n      <th>삼성</th>\n      <td>2000</td>\n      <td>스마트폰</td>\n      <td>30000</td>\n    </tr>\n    <tr>\n      <th>현대</th>\n      <td>1000</td>\n      <td>자동차</td>\n      <td>20000</td>\n    </tr>\n  </tbody>\n</table>\n</div>"
     },
     "metadata": {},
     "execution_count": 241
    }
   ],
   "source": [
    "d[:'현대']"
   ]
  },
  {
   "cell_type": "code",
   "execution_count": 242,
   "metadata": {},
   "outputs": [
    {
     "output_type": "execute_result",
     "data": {
      "text/plain": [
       "항목     주가    업종  발행주식수\n",
       "기업명                   \n",
       "삼성   2000  스마트폰  30000\n",
       "현대   1000   자동차  20000\n",
       "네이버   500    포털  10000"
      ],
      "text/html": "<div>\n<style scoped>\n    .dataframe tbody tr th:only-of-type {\n        vertical-align: middle;\n    }\n\n    .dataframe tbody tr th {\n        vertical-align: top;\n    }\n\n    .dataframe thead th {\n        text-align: right;\n    }\n</style>\n<table border=\"1\" class=\"dataframe\">\n  <thead>\n    <tr style=\"text-align: right;\">\n      <th>항목</th>\n      <th>주가</th>\n      <th>업종</th>\n      <th>발행주식수</th>\n    </tr>\n    <tr>\n      <th>기업명</th>\n      <th></th>\n      <th></th>\n      <th></th>\n    </tr>\n  </thead>\n  <tbody>\n    <tr>\n      <th>삼성</th>\n      <td>2000</td>\n      <td>스마트폰</td>\n      <td>30000</td>\n    </tr>\n    <tr>\n      <th>현대</th>\n      <td>1000</td>\n      <td>자동차</td>\n      <td>20000</td>\n    </tr>\n    <tr>\n      <th>네이버</th>\n      <td>500</td>\n      <td>포털</td>\n      <td>10000</td>\n    </tr>\n  </tbody>\n</table>\n</div>"
     },
     "metadata": {},
     "execution_count": 242
    }
   ],
   "source": [
    "# 열 슬라이싱\n",
    "d"
   ]
  },
  {
   "cell_type": "code",
   "execution_count": 243,
   "metadata": {},
   "outputs": [
    {
     "output_type": "execute_result",
     "data": {
      "text/plain": [
       "Index(['주가', '업종', '발행주식수'], dtype='object', name='항목')"
      ]
     },
     "metadata": {},
     "execution_count": 243
    }
   ],
   "source": [
    "d.columns"
   ]
  },
  {
   "cell_type": "code",
   "execution_count": 244,
   "metadata": {},
   "outputs": [
    {
     "output_type": "execute_result",
     "data": {
      "text/plain": [
       "Index(['업종', '발행주식수'], dtype='object', name='항목')"
      ]
     },
     "metadata": {},
     "execution_count": 244
    }
   ],
   "source": [
    "d.columns[1:]"
   ]
  },
  {
   "cell_type": "code",
   "execution_count": 245,
   "metadata": {},
   "outputs": [
    {
     "output_type": "execute_result",
     "data": {
      "text/plain": [
       "항목     업종  발행주식수\n",
       "기업명             \n",
       "삼성   스마트폰  30000\n",
       "현대    자동차  20000\n",
       "네이버    포털  10000"
      ],
      "text/html": "<div>\n<style scoped>\n    .dataframe tbody tr th:only-of-type {\n        vertical-align: middle;\n    }\n\n    .dataframe tbody tr th {\n        vertical-align: top;\n    }\n\n    .dataframe thead th {\n        text-align: right;\n    }\n</style>\n<table border=\"1\" class=\"dataframe\">\n  <thead>\n    <tr style=\"text-align: right;\">\n      <th>항목</th>\n      <th>업종</th>\n      <th>발행주식수</th>\n    </tr>\n    <tr>\n      <th>기업명</th>\n      <th></th>\n      <th></th>\n    </tr>\n  </thead>\n  <tbody>\n    <tr>\n      <th>삼성</th>\n      <td>스마트폰</td>\n      <td>30000</td>\n    </tr>\n    <tr>\n      <th>현대</th>\n      <td>자동차</td>\n      <td>20000</td>\n    </tr>\n    <tr>\n      <th>네이버</th>\n      <td>포털</td>\n      <td>10000</td>\n    </tr>\n  </tbody>\n</table>\n</div>"
     },
     "metadata": {},
     "execution_count": 245
    }
   ],
   "source": [
    "d[d.columns[1:]]"
   ]
  },
  {
   "cell_type": "code",
   "execution_count": 246,
   "metadata": {},
   "outputs": [
    {
     "output_type": "execute_result",
     "data": {
      "text/plain": [
       "항목     주가    업종\n",
       "기업명            \n",
       "삼성   2000  스마트폰\n",
       "현대   1000   자동차\n",
       "네이버   500    포털"
      ],
      "text/html": "<div>\n<style scoped>\n    .dataframe tbody tr th:only-of-type {\n        vertical-align: middle;\n    }\n\n    .dataframe tbody tr th {\n        vertical-align: top;\n    }\n\n    .dataframe thead th {\n        text-align: right;\n    }\n</style>\n<table border=\"1\" class=\"dataframe\">\n  <thead>\n    <tr style=\"text-align: right;\">\n      <th>항목</th>\n      <th>주가</th>\n      <th>업종</th>\n    </tr>\n    <tr>\n      <th>기업명</th>\n      <th></th>\n      <th></th>\n    </tr>\n  </thead>\n  <tbody>\n    <tr>\n      <th>삼성</th>\n      <td>2000</td>\n      <td>스마트폰</td>\n    </tr>\n    <tr>\n      <th>현대</th>\n      <td>1000</td>\n      <td>자동차</td>\n    </tr>\n    <tr>\n      <th>네이버</th>\n      <td>500</td>\n      <td>포털</td>\n    </tr>\n  </tbody>\n</table>\n</div>"
     },
     "metadata": {},
     "execution_count": 246
    }
   ],
   "source": [
    "d[d.columns[:2]]"
   ]
  },
  {
   "cell_type": "code",
   "execution_count": 247,
   "metadata": {},
   "outputs": [
    {
     "output_type": "execute_result",
     "data": {
      "text/plain": [
       "항목     주가    업종  발행주식수\n",
       "기업명                   \n",
       "삼성   2000  스마트폰  30000\n",
       "현대   1000   자동차  20000\n",
       "네이버   500    포털  10000"
      ],
      "text/html": "<div>\n<style scoped>\n    .dataframe tbody tr th:only-of-type {\n        vertical-align: middle;\n    }\n\n    .dataframe tbody tr th {\n        vertical-align: top;\n    }\n\n    .dataframe thead th {\n        text-align: right;\n    }\n</style>\n<table border=\"1\" class=\"dataframe\">\n  <thead>\n    <tr style=\"text-align: right;\">\n      <th>항목</th>\n      <th>주가</th>\n      <th>업종</th>\n      <th>발행주식수</th>\n    </tr>\n    <tr>\n      <th>기업명</th>\n      <th></th>\n      <th></th>\n      <th></th>\n    </tr>\n  </thead>\n  <tbody>\n    <tr>\n      <th>삼성</th>\n      <td>2000</td>\n      <td>스마트폰</td>\n      <td>30000</td>\n    </tr>\n    <tr>\n      <th>현대</th>\n      <td>1000</td>\n      <td>자동차</td>\n      <td>20000</td>\n    </tr>\n    <tr>\n      <th>네이버</th>\n      <td>500</td>\n      <td>포털</td>\n      <td>10000</td>\n    </tr>\n  </tbody>\n</table>\n</div>"
     },
     "metadata": {},
     "execution_count": 247
    }
   ],
   "source": [
    "# Boolean 인덱싱\n",
    "d"
   ]
  },
  {
   "cell_type": "code",
   "execution_count": 248,
   "metadata": {},
   "outputs": [
    {
     "output_type": "execute_result",
     "data": {
      "text/plain": [
       "기업명\n",
       "삼성      True\n",
       "현대      True\n",
       "네이버    False\n",
       "Name: 발행주식수, dtype: bool"
      ]
     },
     "metadata": {},
     "execution_count": 248
    }
   ],
   "source": [
    "d['발행주식수'] >= 15000"
   ]
  },
  {
   "cell_type": "code",
   "execution_count": 249,
   "metadata": {},
   "outputs": [
    {
     "output_type": "execute_result",
     "data": {
      "text/plain": [
       "항목     주가    업종  발행주식수\n",
       "기업명                   \n",
       "삼성   2000  스마트폰  30000\n",
       "현대   1000   자동차  20000"
      ],
      "text/html": "<div>\n<style scoped>\n    .dataframe tbody tr th:only-of-type {\n        vertical-align: middle;\n    }\n\n    .dataframe tbody tr th {\n        vertical-align: top;\n    }\n\n    .dataframe thead th {\n        text-align: right;\n    }\n</style>\n<table border=\"1\" class=\"dataframe\">\n  <thead>\n    <tr style=\"text-align: right;\">\n      <th>항목</th>\n      <th>주가</th>\n      <th>업종</th>\n      <th>발행주식수</th>\n    </tr>\n    <tr>\n      <th>기업명</th>\n      <th></th>\n      <th></th>\n      <th></th>\n    </tr>\n  </thead>\n  <tbody>\n    <tr>\n      <th>삼성</th>\n      <td>2000</td>\n      <td>스마트폰</td>\n      <td>30000</td>\n    </tr>\n    <tr>\n      <th>현대</th>\n      <td>1000</td>\n      <td>자동차</td>\n      <td>20000</td>\n    </tr>\n  </tbody>\n</table>\n</div>"
     },
     "metadata": {},
     "execution_count": 249
    }
   ],
   "source": [
    "d[d['발행주식수'] >= 15000]"
   ]
  },
  {
   "cell_type": "code",
   "execution_count": 250,
   "metadata": {},
   "outputs": [
    {
     "output_type": "execute_result",
     "data": {
      "text/plain": [
       "기업명\n",
       "삼성     False\n",
       "현대      True\n",
       "네이버     True\n",
       "Name: 주가, dtype: bool"
      ]
     },
     "metadata": {},
     "execution_count": 250
    }
   ],
   "source": [
    "d['주가'] < 1500"
   ]
  },
  {
   "cell_type": "code",
   "execution_count": 251,
   "metadata": {},
   "outputs": [
    {
     "output_type": "execute_result",
     "data": {
      "text/plain": [
       "항목     주가   업종  발행주식수\n",
       "기업명                  \n",
       "현대   1000  자동차  20000\n",
       "네이버   500   포털  10000"
      ],
      "text/html": "<div>\n<style scoped>\n    .dataframe tbody tr th:only-of-type {\n        vertical-align: middle;\n    }\n\n    .dataframe tbody tr th {\n        vertical-align: top;\n    }\n\n    .dataframe thead th {\n        text-align: right;\n    }\n</style>\n<table border=\"1\" class=\"dataframe\">\n  <thead>\n    <tr style=\"text-align: right;\">\n      <th>항목</th>\n      <th>주가</th>\n      <th>업종</th>\n      <th>발행주식수</th>\n    </tr>\n    <tr>\n      <th>기업명</th>\n      <th></th>\n      <th></th>\n      <th></th>\n    </tr>\n  </thead>\n  <tbody>\n    <tr>\n      <th>현대</th>\n      <td>1000</td>\n      <td>자동차</td>\n      <td>20000</td>\n    </tr>\n    <tr>\n      <th>네이버</th>\n      <td>500</td>\n      <td>포털</td>\n      <td>10000</td>\n    </tr>\n  </tbody>\n</table>\n</div>"
     },
     "metadata": {},
     "execution_count": 251
    }
   ],
   "source": [
    "d[d['주가'] < 1500]"
   ]
  },
  {
   "cell_type": "code",
   "execution_count": 252,
   "metadata": {},
   "outputs": [
    {
     "output_type": "execute_result",
     "data": {
      "text/plain": [
       "항목     주가    업종  발행주식수\n",
       "기업명                   \n",
       "삼성   2000  스마트폰  30000\n",
       "현대   1000   자동차  20000\n",
       "네이버   500    포털  10000"
      ],
      "text/html": "<div>\n<style scoped>\n    .dataframe tbody tr th:only-of-type {\n        vertical-align: middle;\n    }\n\n    .dataframe tbody tr th {\n        vertical-align: top;\n    }\n\n    .dataframe thead th {\n        text-align: right;\n    }\n</style>\n<table border=\"1\" class=\"dataframe\">\n  <thead>\n    <tr style=\"text-align: right;\">\n      <th>항목</th>\n      <th>주가</th>\n      <th>업종</th>\n      <th>발행주식수</th>\n    </tr>\n    <tr>\n      <th>기업명</th>\n      <th></th>\n      <th></th>\n      <th></th>\n    </tr>\n  </thead>\n  <tbody>\n    <tr>\n      <th>삼성</th>\n      <td>2000</td>\n      <td>스마트폰</td>\n      <td>30000</td>\n    </tr>\n    <tr>\n      <th>현대</th>\n      <td>1000</td>\n      <td>자동차</td>\n      <td>20000</td>\n    </tr>\n    <tr>\n      <th>네이버</th>\n      <td>500</td>\n      <td>포털</td>\n      <td>10000</td>\n    </tr>\n  </tbody>\n</table>\n</div>"
     },
     "metadata": {},
     "execution_count": 252
    }
   ],
   "source": [
    "# loc 슬라이싱\n",
    "d"
   ]
  },
  {
   "cell_type": "code",
   "execution_count": 253,
   "metadata": {},
   "outputs": [
    {
     "output_type": "execute_result",
     "data": {
      "text/plain": [
       "항목     주가    업종  발행주식수\n",
       "기업명                   \n",
       "삼성   2000  스마트폰  30000\n",
       "현대   1000   자동차  20000"
      ],
      "text/html": "<div>\n<style scoped>\n    .dataframe tbody tr th:only-of-type {\n        vertical-align: middle;\n    }\n\n    .dataframe tbody tr th {\n        vertical-align: top;\n    }\n\n    .dataframe thead th {\n        text-align: right;\n    }\n</style>\n<table border=\"1\" class=\"dataframe\">\n  <thead>\n    <tr style=\"text-align: right;\">\n      <th>항목</th>\n      <th>주가</th>\n      <th>업종</th>\n      <th>발행주식수</th>\n    </tr>\n    <tr>\n      <th>기업명</th>\n      <th></th>\n      <th></th>\n      <th></th>\n    </tr>\n  </thead>\n  <tbody>\n    <tr>\n      <th>삼성</th>\n      <td>2000</td>\n      <td>스마트폰</td>\n      <td>30000</td>\n    </tr>\n    <tr>\n      <th>현대</th>\n      <td>1000</td>\n      <td>자동차</td>\n      <td>20000</td>\n    </tr>\n  </tbody>\n</table>\n</div>"
     },
     "metadata": {},
     "execution_count": 253
    }
   ],
   "source": [
    "d.loc['삼성':'현대']"
   ]
  },
  {
   "cell_type": "code",
   "execution_count": 254,
   "metadata": {},
   "outputs": [
    {
     "output_type": "execute_result",
     "data": {
      "text/plain": [
       "항목     주가    업종  발행주식수\n",
       "기업명                   \n",
       "삼성   2000  스마트폰  30000\n",
       "현대   1000   자동차  20000"
      ],
      "text/html": "<div>\n<style scoped>\n    .dataframe tbody tr th:only-of-type {\n        vertical-align: middle;\n    }\n\n    .dataframe tbody tr th {\n        vertical-align: top;\n    }\n\n    .dataframe thead th {\n        text-align: right;\n    }\n</style>\n<table border=\"1\" class=\"dataframe\">\n  <thead>\n    <tr style=\"text-align: right;\">\n      <th>항목</th>\n      <th>주가</th>\n      <th>업종</th>\n      <th>발행주식수</th>\n    </tr>\n    <tr>\n      <th>기업명</th>\n      <th></th>\n      <th></th>\n      <th></th>\n    </tr>\n  </thead>\n  <tbody>\n    <tr>\n      <th>삼성</th>\n      <td>2000</td>\n      <td>스마트폰</td>\n      <td>30000</td>\n    </tr>\n    <tr>\n      <th>현대</th>\n      <td>1000</td>\n      <td>자동차</td>\n      <td>20000</td>\n    </tr>\n  </tbody>\n</table>\n</div>"
     },
     "metadata": {},
     "execution_count": 254
    }
   ],
   "source": [
    "d.iloc[:2]"
   ]
  },
  {
   "cell_type": "code",
   "execution_count": 255,
   "metadata": {},
   "outputs": [
    {
     "output_type": "execute_result",
     "data": {
      "text/plain": [
       "항목     주가    업종  발행주식수\n",
       "기업명                   \n",
       "삼성   2000  스마트폰  30000\n",
       "현대   1000   자동차  20000\n",
       "네이버   500    포털  10000"
      ],
      "text/html": "<div>\n<style scoped>\n    .dataframe tbody tr th:only-of-type {\n        vertical-align: middle;\n    }\n\n    .dataframe tbody tr th {\n        vertical-align: top;\n    }\n\n    .dataframe thead th {\n        text-align: right;\n    }\n</style>\n<table border=\"1\" class=\"dataframe\">\n  <thead>\n    <tr style=\"text-align: right;\">\n      <th>항목</th>\n      <th>주가</th>\n      <th>업종</th>\n      <th>발행주식수</th>\n    </tr>\n    <tr>\n      <th>기업명</th>\n      <th></th>\n      <th></th>\n      <th></th>\n    </tr>\n  </thead>\n  <tbody>\n    <tr>\n      <th>삼성</th>\n      <td>2000</td>\n      <td>스마트폰</td>\n      <td>30000</td>\n    </tr>\n    <tr>\n      <th>현대</th>\n      <td>1000</td>\n      <td>자동차</td>\n      <td>20000</td>\n    </tr>\n    <tr>\n      <th>네이버</th>\n      <td>500</td>\n      <td>포털</td>\n      <td>10000</td>\n    </tr>\n  </tbody>\n</table>\n</div>"
     },
     "metadata": {},
     "execution_count": 255
    }
   ],
   "source": [
    "# 슬라이싱으로 가져오기\n",
    "d"
   ]
  },
  {
   "cell_type": "code",
   "execution_count": 256,
   "metadata": {},
   "outputs": [
    {
     "output_type": "execute_result",
     "data": {
      "text/plain": [
       "항목     업종  발행주식수\n",
       "기업명             \n",
       "삼성   스마트폰  30000\n",
       "현대    자동차  20000"
      ],
      "text/html": "<div>\n<style scoped>\n    .dataframe tbody tr th:only-of-type {\n        vertical-align: middle;\n    }\n\n    .dataframe tbody tr th {\n        vertical-align: top;\n    }\n\n    .dataframe thead th {\n        text-align: right;\n    }\n</style>\n<table border=\"1\" class=\"dataframe\">\n  <thead>\n    <tr style=\"text-align: right;\">\n      <th>항목</th>\n      <th>업종</th>\n      <th>발행주식수</th>\n    </tr>\n    <tr>\n      <th>기업명</th>\n      <th></th>\n      <th></th>\n    </tr>\n  </thead>\n  <tbody>\n    <tr>\n      <th>삼성</th>\n      <td>스마트폰</td>\n      <td>30000</td>\n    </tr>\n    <tr>\n      <th>현대</th>\n      <td>자동차</td>\n      <td>20000</td>\n    </tr>\n  </tbody>\n</table>\n</div>"
     },
     "metadata": {},
     "execution_count": 256
    }
   ],
   "source": [
    "d.loc['삼성':'현대','업종':'발행주식수']"
   ]
  },
  {
   "cell_type": "code",
   "execution_count": 257,
   "metadata": {},
   "outputs": [
    {
     "output_type": "execute_result",
     "data": {
      "text/plain": [
       "항목     업종  발행주식수\n",
       "기업명             \n",
       "삼성   스마트폰  30000\n",
       "현대    자동차  20000"
      ],
      "text/html": "<div>\n<style scoped>\n    .dataframe tbody tr th:only-of-type {\n        vertical-align: middle;\n    }\n\n    .dataframe tbody tr th {\n        vertical-align: top;\n    }\n\n    .dataframe thead th {\n        text-align: right;\n    }\n</style>\n<table border=\"1\" class=\"dataframe\">\n  <thead>\n    <tr style=\"text-align: right;\">\n      <th>항목</th>\n      <th>업종</th>\n      <th>발행주식수</th>\n    </tr>\n    <tr>\n      <th>기업명</th>\n      <th></th>\n      <th></th>\n    </tr>\n  </thead>\n  <tbody>\n    <tr>\n      <th>삼성</th>\n      <td>스마트폰</td>\n      <td>30000</td>\n    </tr>\n    <tr>\n      <th>현대</th>\n      <td>자동차</td>\n      <td>20000</td>\n    </tr>\n  </tbody>\n</table>\n</div>"
     },
     "metadata": {},
     "execution_count": 257
    }
   ],
   "source": [
    "d.iloc[0:2, 1:3]"
   ]
  },
  {
   "cell_type": "markdown",
   "metadata": {},
   "source": [
    "## 3-3. DataFrame 데이터 CRUD"
   ]
  },
  {
   "cell_type": "code",
   "execution_count": 258,
   "metadata": {},
   "outputs": [],
   "source": [
    "# 행 데이터 추가\n",
    "# d = d.append({'주가':1500, '업종':'메모리', '발행주식수':15000}, ignore_index = True)\n",
    "# d"
   ]
  },
  {
   "cell_type": "code",
   "execution_count": 259,
   "metadata": {},
   "outputs": [
    {
     "output_type": "execute_result",
     "data": {
      "text/plain": [
       "항목     주가    업종  발행주식수\n",
       "기업명                   \n",
       "삼성   2000  스마트폰  30000\n",
       "현대   1000   자동차  20000\n",
       "네이버   500    포털  10000"
      ],
      "text/html": "<div>\n<style scoped>\n    .dataframe tbody tr th:only-of-type {\n        vertical-align: middle;\n    }\n\n    .dataframe tbody tr th {\n        vertical-align: top;\n    }\n\n    .dataframe thead th {\n        text-align: right;\n    }\n</style>\n<table border=\"1\" class=\"dataframe\">\n  <thead>\n    <tr style=\"text-align: right;\">\n      <th>항목</th>\n      <th>주가</th>\n      <th>업종</th>\n      <th>발행주식수</th>\n    </tr>\n    <tr>\n      <th>기업명</th>\n      <th></th>\n      <th></th>\n      <th></th>\n    </tr>\n  </thead>\n  <tbody>\n    <tr>\n      <th>삼성</th>\n      <td>2000</td>\n      <td>스마트폰</td>\n      <td>30000</td>\n    </tr>\n    <tr>\n      <th>현대</th>\n      <td>1000</td>\n      <td>자동차</td>\n      <td>20000</td>\n    </tr>\n    <tr>\n      <th>네이버</th>\n      <td>500</td>\n      <td>포털</td>\n      <td>10000</td>\n    </tr>\n  </tbody>\n</table>\n</div>"
     },
     "metadata": {},
     "execution_count": 259
    }
   ],
   "source": [
    "d"
   ]
  },
  {
   "cell_type": "code",
   "execution_count": 260,
   "metadata": {},
   "outputs": [
    {
     "output_type": "execute_result",
     "data": {
      "text/plain": [
       "      주가   업종  발행주식수\n",
       "SK  1500  메모리  15000"
      ],
      "text/html": "<div>\n<style scoped>\n    .dataframe tbody tr th:only-of-type {\n        vertical-align: middle;\n    }\n\n    .dataframe tbody tr th {\n        vertical-align: top;\n    }\n\n    .dataframe thead th {\n        text-align: right;\n    }\n</style>\n<table border=\"1\" class=\"dataframe\">\n  <thead>\n    <tr style=\"text-align: right;\">\n      <th></th>\n      <th>주가</th>\n      <th>업종</th>\n      <th>발행주식수</th>\n    </tr>\n  </thead>\n  <tbody>\n    <tr>\n      <th>SK</th>\n      <td>1500</td>\n      <td>메모리</td>\n      <td>15000</td>\n    </tr>\n  </tbody>\n</table>\n</div>"
     },
     "metadata": {},
     "execution_count": 260
    }
   ],
   "source": [
    "data2 = {'주가':1500, '업종':'메모리', '발행주식수':15000}\n",
    "index2 = {'SK'}\n",
    "d2 = pd.DataFrame(data = data2, index = index2)\n",
    "d2"
   ]
  },
  {
   "cell_type": "code",
   "execution_count": 261,
   "metadata": {},
   "outputs": [
    {
     "output_type": "execute_result",
     "data": {
      "text/plain": [
       "       주가    업종  발행주식수\n",
       "삼성   2000  스마트폰  30000\n",
       "현대   1000   자동차  20000\n",
       "네이버   500    포털  10000\n",
       "SK   1500   메모리  15000"
      ],
      "text/html": "<div>\n<style scoped>\n    .dataframe tbody tr th:only-of-type {\n        vertical-align: middle;\n    }\n\n    .dataframe tbody tr th {\n        vertical-align: top;\n    }\n\n    .dataframe thead th {\n        text-align: right;\n    }\n</style>\n<table border=\"1\" class=\"dataframe\">\n  <thead>\n    <tr style=\"text-align: right;\">\n      <th></th>\n      <th>주가</th>\n      <th>업종</th>\n      <th>발행주식수</th>\n    </tr>\n  </thead>\n  <tbody>\n    <tr>\n      <th>삼성</th>\n      <td>2000</td>\n      <td>스마트폰</td>\n      <td>30000</td>\n    </tr>\n    <tr>\n      <th>현대</th>\n      <td>1000</td>\n      <td>자동차</td>\n      <td>20000</td>\n    </tr>\n    <tr>\n      <th>네이버</th>\n      <td>500</td>\n      <td>포털</td>\n      <td>10000</td>\n    </tr>\n    <tr>\n      <th>SK</th>\n      <td>1500</td>\n      <td>메모리</td>\n      <td>15000</td>\n    </tr>\n  </tbody>\n</table>\n</div>"
     },
     "metadata": {},
     "execution_count": 261
    }
   ],
   "source": [
    "# 행 추가 1 (append)\n",
    "d = d.append(d2)\n",
    "d"
   ]
  },
  {
   "cell_type": "code",
   "execution_count": 262,
   "metadata": {},
   "outputs": [
    {
     "output_type": "execute_result",
     "data": {
      "text/plain": [
       "       주가    업종  발행주식수\n",
       "삼성   2000  스마트폰  30000\n",
       "현대   1000   자동차  20000\n",
       "네이버   500    포털  10000\n",
       "SK   1500   메모리  15000\n",
       "SK   1500   메모리  15000"
      ],
      "text/html": "<div>\n<style scoped>\n    .dataframe tbody tr th:only-of-type {\n        vertical-align: middle;\n    }\n\n    .dataframe tbody tr th {\n        vertical-align: top;\n    }\n\n    .dataframe thead th {\n        text-align: right;\n    }\n</style>\n<table border=\"1\" class=\"dataframe\">\n  <thead>\n    <tr style=\"text-align: right;\">\n      <th></th>\n      <th>주가</th>\n      <th>업종</th>\n      <th>발행주식수</th>\n    </tr>\n  </thead>\n  <tbody>\n    <tr>\n      <th>삼성</th>\n      <td>2000</td>\n      <td>스마트폰</td>\n      <td>30000</td>\n    </tr>\n    <tr>\n      <th>현대</th>\n      <td>1000</td>\n      <td>자동차</td>\n      <td>20000</td>\n    </tr>\n    <tr>\n      <th>네이버</th>\n      <td>500</td>\n      <td>포털</td>\n      <td>10000</td>\n    </tr>\n    <tr>\n      <th>SK</th>\n      <td>1500</td>\n      <td>메모리</td>\n      <td>15000</td>\n    </tr>\n    <tr>\n      <th>SK</th>\n      <td>1500</td>\n      <td>메모리</td>\n      <td>15000</td>\n    </tr>\n  </tbody>\n</table>\n</div>"
     },
     "metadata": {},
     "execution_count": 262
    }
   ],
   "source": [
    "# 행 추가 2 (concat)\n",
    "d = pd.concat([d,d2])\n",
    "d"
   ]
  },
  {
   "cell_type": "code",
   "execution_count": 263,
   "metadata": {},
   "outputs": [
    {
     "output_type": "execute_result",
     "data": {
      "text/plain": [
       "       주가      업종  발행주식수\n",
       "삼성   2000    스마트폰  30000\n",
       "현대   1000     자동차  20000\n",
       "네이버   500      포털  10000\n",
       "SK   1500     메모리  15000\n",
       "SK   1500     메모리  15000\n",
       "카카오  1500  IT서비스업  15000"
      ],
      "text/html": "<div>\n<style scoped>\n    .dataframe tbody tr th:only-of-type {\n        vertical-align: middle;\n    }\n\n    .dataframe tbody tr th {\n        vertical-align: top;\n    }\n\n    .dataframe thead th {\n        text-align: right;\n    }\n</style>\n<table border=\"1\" class=\"dataframe\">\n  <thead>\n    <tr style=\"text-align: right;\">\n      <th></th>\n      <th>주가</th>\n      <th>업종</th>\n      <th>발행주식수</th>\n    </tr>\n  </thead>\n  <tbody>\n    <tr>\n      <th>삼성</th>\n      <td>2000</td>\n      <td>스마트폰</td>\n      <td>30000</td>\n    </tr>\n    <tr>\n      <th>현대</th>\n      <td>1000</td>\n      <td>자동차</td>\n      <td>20000</td>\n    </tr>\n    <tr>\n      <th>네이버</th>\n      <td>500</td>\n      <td>포털</td>\n      <td>10000</td>\n    </tr>\n    <tr>\n      <th>SK</th>\n      <td>1500</td>\n      <td>메모리</td>\n      <td>15000</td>\n    </tr>\n    <tr>\n      <th>SK</th>\n      <td>1500</td>\n      <td>메모리</td>\n      <td>15000</td>\n    </tr>\n    <tr>\n      <th>카카오</th>\n      <td>1500</td>\n      <td>IT서비스업</td>\n      <td>15000</td>\n    </tr>\n  </tbody>\n</table>\n</div>"
     },
     "metadata": {},
     "execution_count": 263
    }
   ],
   "source": [
    "# 행 추가 3 (loc)\n",
    "d.loc['카카오'] = [1500,'IT서비스업',15000]\n",
    "d"
   ]
  },
  {
   "cell_type": "code",
   "execution_count": 264,
   "metadata": {},
   "outputs": [
    {
     "output_type": "execute_result",
     "data": {
      "text/plain": [
       "       주가      업종  발행주식수      시가총액\n",
       "삼성   2000    스마트폰  30000  60000000\n",
       "현대   1000     자동차  20000  20000000\n",
       "네이버   500      포털  10000   5000000\n",
       "SK   1500     메모리  15000  22500000\n",
       "SK   1500     메모리  15000  22500000\n",
       "카카오  1500  IT서비스업  15000  22500000"
      ],
      "text/html": "<div>\n<style scoped>\n    .dataframe tbody tr th:only-of-type {\n        vertical-align: middle;\n    }\n\n    .dataframe tbody tr th {\n        vertical-align: top;\n    }\n\n    .dataframe thead th {\n        text-align: right;\n    }\n</style>\n<table border=\"1\" class=\"dataframe\">\n  <thead>\n    <tr style=\"text-align: right;\">\n      <th></th>\n      <th>주가</th>\n      <th>업종</th>\n      <th>발행주식수</th>\n      <th>시가총액</th>\n    </tr>\n  </thead>\n  <tbody>\n    <tr>\n      <th>삼성</th>\n      <td>2000</td>\n      <td>스마트폰</td>\n      <td>30000</td>\n      <td>60000000</td>\n    </tr>\n    <tr>\n      <th>현대</th>\n      <td>1000</td>\n      <td>자동차</td>\n      <td>20000</td>\n      <td>20000000</td>\n    </tr>\n    <tr>\n      <th>네이버</th>\n      <td>500</td>\n      <td>포털</td>\n      <td>10000</td>\n      <td>5000000</td>\n    </tr>\n    <tr>\n      <th>SK</th>\n      <td>1500</td>\n      <td>메모리</td>\n      <td>15000</td>\n      <td>22500000</td>\n    </tr>\n    <tr>\n      <th>SK</th>\n      <td>1500</td>\n      <td>메모리</td>\n      <td>15000</td>\n      <td>22500000</td>\n    </tr>\n    <tr>\n      <th>카카오</th>\n      <td>1500</td>\n      <td>IT서비스업</td>\n      <td>15000</td>\n      <td>22500000</td>\n    </tr>\n  </tbody>\n</table>\n</div>"
     },
     "metadata": {},
     "execution_count": 264
    }
   ],
   "source": [
    "# 열 추가\n",
    "d['시가총액'] = d['주가'] * d['발행주식수']\n",
    "d"
   ]
  },
  {
   "cell_type": "code",
   "execution_count": 265,
   "metadata": {},
   "outputs": [
    {
     "output_type": "execute_result",
     "data": {
      "text/plain": [
       "       주가      업종  발행주식수      시가총액\n",
       "삼성   2000    스마트폰  30000  60000000\n",
       "현대   1000     자동차  20000  20000000\n",
       "네이버  1000  IT서비스업  15000  15000000\n",
       "SK   1500     메모리  15000  22500000\n",
       "SK   1500     메모리  15000  22500000\n",
       "카카오  1500  IT서비스업  15000  22500000"
      ],
      "text/html": "<div>\n<style scoped>\n    .dataframe tbody tr th:only-of-type {\n        vertical-align: middle;\n    }\n\n    .dataframe tbody tr th {\n        vertical-align: top;\n    }\n\n    .dataframe thead th {\n        text-align: right;\n    }\n</style>\n<table border=\"1\" class=\"dataframe\">\n  <thead>\n    <tr style=\"text-align: right;\">\n      <th></th>\n      <th>주가</th>\n      <th>업종</th>\n      <th>발행주식수</th>\n      <th>시가총액</th>\n    </tr>\n  </thead>\n  <tbody>\n    <tr>\n      <th>삼성</th>\n      <td>2000</td>\n      <td>스마트폰</td>\n      <td>30000</td>\n      <td>60000000</td>\n    </tr>\n    <tr>\n      <th>현대</th>\n      <td>1000</td>\n      <td>자동차</td>\n      <td>20000</td>\n      <td>20000000</td>\n    </tr>\n    <tr>\n      <th>네이버</th>\n      <td>1000</td>\n      <td>IT서비스업</td>\n      <td>15000</td>\n      <td>15000000</td>\n    </tr>\n    <tr>\n      <th>SK</th>\n      <td>1500</td>\n      <td>메모리</td>\n      <td>15000</td>\n      <td>22500000</td>\n    </tr>\n    <tr>\n      <th>SK</th>\n      <td>1500</td>\n      <td>메모리</td>\n      <td>15000</td>\n      <td>22500000</td>\n    </tr>\n    <tr>\n      <th>카카오</th>\n      <td>1500</td>\n      <td>IT서비스업</td>\n      <td>15000</td>\n      <td>22500000</td>\n    </tr>\n  </tbody>\n</table>\n</div>"
     },
     "metadata": {},
     "execution_count": 265
    }
   ],
   "source": [
    "d.loc['네이버'] = [1000, 'IT서비스업',15000, 15000 * 1000]\n",
    "d"
   ]
  },
  {
   "cell_type": "code",
   "execution_count": 266,
   "metadata": {},
   "outputs": [
    {
     "output_type": "execute_result",
     "data": {
      "text/plain": [
       "       주가      업종  발행주식수      시가총액\n",
       "삼성   2500    스마트폰  30000  60000000\n",
       "현대   1500     자동차  20000  20000000\n",
       "네이버  1500  IT서비스업  15000  15000000\n",
       "SK   2000     메모리  15000  22500000\n",
       "SK   2000     메모리  15000  22500000\n",
       "카카오  2000  IT서비스업  15000  22500000"
      ],
      "text/html": "<div>\n<style scoped>\n    .dataframe tbody tr th:only-of-type {\n        vertical-align: middle;\n    }\n\n    .dataframe tbody tr th {\n        vertical-align: top;\n    }\n\n    .dataframe thead th {\n        text-align: right;\n    }\n</style>\n<table border=\"1\" class=\"dataframe\">\n  <thead>\n    <tr style=\"text-align: right;\">\n      <th></th>\n      <th>주가</th>\n      <th>업종</th>\n      <th>발행주식수</th>\n      <th>시가총액</th>\n    </tr>\n  </thead>\n  <tbody>\n    <tr>\n      <th>삼성</th>\n      <td>2500</td>\n      <td>스마트폰</td>\n      <td>30000</td>\n      <td>60000000</td>\n    </tr>\n    <tr>\n      <th>현대</th>\n      <td>1500</td>\n      <td>자동차</td>\n      <td>20000</td>\n      <td>20000000</td>\n    </tr>\n    <tr>\n      <th>네이버</th>\n      <td>1500</td>\n      <td>IT서비스업</td>\n      <td>15000</td>\n      <td>15000000</td>\n    </tr>\n    <tr>\n      <th>SK</th>\n      <td>2000</td>\n      <td>메모리</td>\n      <td>15000</td>\n      <td>22500000</td>\n    </tr>\n    <tr>\n      <th>SK</th>\n      <td>2000</td>\n      <td>메모리</td>\n      <td>15000</td>\n      <td>22500000</td>\n    </tr>\n    <tr>\n      <th>카카오</th>\n      <td>2000</td>\n      <td>IT서비스업</td>\n      <td>15000</td>\n      <td>22500000</td>\n    </tr>\n  </tbody>\n</table>\n</div>"
     },
     "metadata": {},
     "execution_count": 266
    }
   ],
   "source": [
    "# 전체 열 데이터 변경\n",
    "d['주가'] += 500\n",
    "d"
   ]
  },
  {
   "cell_type": "code",
   "execution_count": 267,
   "metadata": {},
   "outputs": [
    {
     "output_type": "execute_result",
     "data": {
      "text/plain": [
       "       주가      업종  발행주식수      시가총액\n",
       "삼성   2500    스마트폰  30000  75000000\n",
       "현대   1500     자동차  20000  30000000\n",
       "네이버  1500  IT서비스업  15000  22500000\n",
       "SK   2000     메모리  15000  30000000\n",
       "SK   2000     메모리  15000  30000000\n",
       "카카오  2000  IT서비스업  15000  30000000"
      ],
      "text/html": "<div>\n<style scoped>\n    .dataframe tbody tr th:only-of-type {\n        vertical-align: middle;\n    }\n\n    .dataframe tbody tr th {\n        vertical-align: top;\n    }\n\n    .dataframe thead th {\n        text-align: right;\n    }\n</style>\n<table border=\"1\" class=\"dataframe\">\n  <thead>\n    <tr style=\"text-align: right;\">\n      <th></th>\n      <th>주가</th>\n      <th>업종</th>\n      <th>발행주식수</th>\n      <th>시가총액</th>\n    </tr>\n  </thead>\n  <tbody>\n    <tr>\n      <th>삼성</th>\n      <td>2500</td>\n      <td>스마트폰</td>\n      <td>30000</td>\n      <td>75000000</td>\n    </tr>\n    <tr>\n      <th>현대</th>\n      <td>1500</td>\n      <td>자동차</td>\n      <td>20000</td>\n      <td>30000000</td>\n    </tr>\n    <tr>\n      <th>네이버</th>\n      <td>1500</td>\n      <td>IT서비스업</td>\n      <td>15000</td>\n      <td>22500000</td>\n    </tr>\n    <tr>\n      <th>SK</th>\n      <td>2000</td>\n      <td>메모리</td>\n      <td>15000</td>\n      <td>30000000</td>\n    </tr>\n    <tr>\n      <th>SK</th>\n      <td>2000</td>\n      <td>메모리</td>\n      <td>15000</td>\n      <td>30000000</td>\n    </tr>\n    <tr>\n      <th>카카오</th>\n      <td>2000</td>\n      <td>IT서비스업</td>\n      <td>15000</td>\n      <td>30000000</td>\n    </tr>\n  </tbody>\n</table>\n</div>"
     },
     "metadata": {},
     "execution_count": 267
    }
   ],
   "source": [
    "d['시가총액'] = d['주가'] * d['발행주식수']\n",
    "d"
   ]
  },
  {
   "cell_type": "code",
   "execution_count": 268,
   "metadata": {},
   "outputs": [
    {
     "output_type": "execute_result",
     "data": {
      "text/plain": [
       "       주가      업종  발행주식수      시가총액\n",
       "삼성   2500    스마트폰  30000  75000000\n",
       "현대   1500     자동차  20000  30000000\n",
       "네이버  1500  IT서비스업  15000  22500000\n",
       "SK   2000     메모리  15000  30000000\n",
       "SK   2000     메모리  15000  30000000\n",
       "카카오  2000     금융업  15000  30000000"
      ],
      "text/html": "<div>\n<style scoped>\n    .dataframe tbody tr th:only-of-type {\n        vertical-align: middle;\n    }\n\n    .dataframe tbody tr th {\n        vertical-align: top;\n    }\n\n    .dataframe thead th {\n        text-align: right;\n    }\n</style>\n<table border=\"1\" class=\"dataframe\">\n  <thead>\n    <tr style=\"text-align: right;\">\n      <th></th>\n      <th>주가</th>\n      <th>업종</th>\n      <th>발행주식수</th>\n      <th>시가총액</th>\n    </tr>\n  </thead>\n  <tbody>\n    <tr>\n      <th>삼성</th>\n      <td>2500</td>\n      <td>스마트폰</td>\n      <td>30000</td>\n      <td>75000000</td>\n    </tr>\n    <tr>\n      <th>현대</th>\n      <td>1500</td>\n      <td>자동차</td>\n      <td>20000</td>\n      <td>30000000</td>\n    </tr>\n    <tr>\n      <th>네이버</th>\n      <td>1500</td>\n      <td>IT서비스업</td>\n      <td>15000</td>\n      <td>22500000</td>\n    </tr>\n    <tr>\n      <th>SK</th>\n      <td>2000</td>\n      <td>메모리</td>\n      <td>15000</td>\n      <td>30000000</td>\n    </tr>\n    <tr>\n      <th>SK</th>\n      <td>2000</td>\n      <td>메모리</td>\n      <td>15000</td>\n      <td>30000000</td>\n    </tr>\n    <tr>\n      <th>카카오</th>\n      <td>2000</td>\n      <td>금융업</td>\n      <td>15000</td>\n      <td>30000000</td>\n    </tr>\n  </tbody>\n</table>\n</div>"
     },
     "metadata": {},
     "execution_count": 268
    }
   ],
   "source": [
    "d.loc['카카오','업종'] = '금융업'\n",
    "d"
   ]
  },
  {
   "cell_type": "code",
   "execution_count": 269,
   "metadata": {},
   "outputs": [
    {
     "output_type": "execute_result",
     "data": {
      "text/plain": [
       "       주가      업종  발행주식수      시가총액\n",
       "삼성   2500    스마트폰  30000  75000000\n",
       "현대   1500     자동차  20000  30000000\n",
       "네이버  1500  IT서비스업  15000  22500000\n",
       "카카오  2000     금융업  15000  30000000"
      ],
      "text/html": "<div>\n<style scoped>\n    .dataframe tbody tr th:only-of-type {\n        vertical-align: middle;\n    }\n\n    .dataframe tbody tr th {\n        vertical-align: top;\n    }\n\n    .dataframe thead th {\n        text-align: right;\n    }\n</style>\n<table border=\"1\" class=\"dataframe\">\n  <thead>\n    <tr style=\"text-align: right;\">\n      <th></th>\n      <th>주가</th>\n      <th>업종</th>\n      <th>발행주식수</th>\n      <th>시가총액</th>\n    </tr>\n  </thead>\n  <tbody>\n    <tr>\n      <th>삼성</th>\n      <td>2500</td>\n      <td>스마트폰</td>\n      <td>30000</td>\n      <td>75000000</td>\n    </tr>\n    <tr>\n      <th>현대</th>\n      <td>1500</td>\n      <td>자동차</td>\n      <td>20000</td>\n      <td>30000000</td>\n    </tr>\n    <tr>\n      <th>네이버</th>\n      <td>1500</td>\n      <td>IT서비스업</td>\n      <td>15000</td>\n      <td>22500000</td>\n    </tr>\n    <tr>\n      <th>카카오</th>\n      <td>2000</td>\n      <td>금융업</td>\n      <td>15000</td>\n      <td>30000000</td>\n    </tr>\n  </tbody>\n</table>\n</div>"
     },
     "metadata": {},
     "execution_count": 269
    }
   ],
   "source": [
    "# 행 삭제\n",
    "d = d.drop('SK')\n",
    "d"
   ]
  },
  {
   "cell_type": "code",
   "execution_count": 270,
   "metadata": {},
   "outputs": [
    {
     "output_type": "execute_result",
     "data": {
      "text/plain": [
       "       주가      업종  발행주식수\n",
       "삼성   2500    스마트폰  30000\n",
       "현대   1500     자동차  20000\n",
       "네이버  1500  IT서비스업  15000\n",
       "카카오  2000     금융업  15000"
      ],
      "text/html": "<div>\n<style scoped>\n    .dataframe tbody tr th:only-of-type {\n        vertical-align: middle;\n    }\n\n    .dataframe tbody tr th {\n        vertical-align: top;\n    }\n\n    .dataframe thead th {\n        text-align: right;\n    }\n</style>\n<table border=\"1\" class=\"dataframe\">\n  <thead>\n    <tr style=\"text-align: right;\">\n      <th></th>\n      <th>주가</th>\n      <th>업종</th>\n      <th>발행주식수</th>\n    </tr>\n  </thead>\n  <tbody>\n    <tr>\n      <th>삼성</th>\n      <td>2500</td>\n      <td>스마트폰</td>\n      <td>30000</td>\n    </tr>\n    <tr>\n      <th>현대</th>\n      <td>1500</td>\n      <td>자동차</td>\n      <td>20000</td>\n    </tr>\n    <tr>\n      <th>네이버</th>\n      <td>1500</td>\n      <td>IT서비스업</td>\n      <td>15000</td>\n    </tr>\n    <tr>\n      <th>카카오</th>\n      <td>2000</td>\n      <td>금융업</td>\n      <td>15000</td>\n    </tr>\n  </tbody>\n</table>\n</div>"
     },
     "metadata": {},
     "execution_count": 270
    }
   ],
   "source": [
    "# 열 삭제\n",
    "d = d.drop('시가총액', axis = 1)\n",
    "d"
   ]
  },
  {
   "cell_type": "code",
   "execution_count": 271,
   "metadata": {},
   "outputs": [
    {
     "output_type": "execute_result",
     "data": {
      "text/plain": [
       "       주가      업종\n",
       "삼성   2500    스마트폰\n",
       "현대   1500     자동차\n",
       "네이버  1500  IT서비스업\n",
       "카카오  2000     금융업"
      ],
      "text/html": "<div>\n<style scoped>\n    .dataframe tbody tr th:only-of-type {\n        vertical-align: middle;\n    }\n\n    .dataframe tbody tr th {\n        vertical-align: top;\n    }\n\n    .dataframe thead th {\n        text-align: right;\n    }\n</style>\n<table border=\"1\" class=\"dataframe\">\n  <thead>\n    <tr style=\"text-align: right;\">\n      <th></th>\n      <th>주가</th>\n      <th>업종</th>\n    </tr>\n  </thead>\n  <tbody>\n    <tr>\n      <th>삼성</th>\n      <td>2500</td>\n      <td>스마트폰</td>\n    </tr>\n    <tr>\n      <th>현대</th>\n      <td>1500</td>\n      <td>자동차</td>\n    </tr>\n    <tr>\n      <th>네이버</th>\n      <td>1500</td>\n      <td>IT서비스업</td>\n    </tr>\n    <tr>\n      <th>카카오</th>\n      <td>2000</td>\n      <td>금융업</td>\n    </tr>\n  </tbody>\n</table>\n</div>"
     },
     "metadata": {},
     "execution_count": 271
    }
   ],
   "source": [
    "d.drop(columns = '발행주식수')"
   ]
  },
  {
   "cell_type": "markdown",
   "metadata": {},
   "source": [
    "## 3-4. DataFrame 연산"
   ]
  },
  {
   "cell_type": "code",
   "execution_count": 272,
   "metadata": {},
   "outputs": [],
   "source": [
    "d2 = d.copy()"
   ]
  },
  {
   "cell_type": "code",
   "execution_count": 273,
   "metadata": {},
   "outputs": [
    {
     "output_type": "execute_result",
     "data": {
      "text/plain": [
       "(279648096, 279369376)"
      ]
     },
     "metadata": {},
     "execution_count": 273
    }
   ],
   "source": [
    "id(d) , id(d2)"
   ]
  },
  {
   "cell_type": "code",
   "execution_count": 274,
   "metadata": {},
   "outputs": [
    {
     "output_type": "execute_result",
     "data": {
      "text/plain": [
       "       주가            업종  발행주식수\n",
       "삼성   5000      스마트폰스마트폰  60000\n",
       "현대   3000        자동차자동차  40000\n",
       "네이버  3000  IT서비스업IT서비스업  30000\n",
       "카카오  4000        금융업금융업  30000"
      ],
      "text/html": "<div>\n<style scoped>\n    .dataframe tbody tr th:only-of-type {\n        vertical-align: middle;\n    }\n\n    .dataframe tbody tr th {\n        vertical-align: top;\n    }\n\n    .dataframe thead th {\n        text-align: right;\n    }\n</style>\n<table border=\"1\" class=\"dataframe\">\n  <thead>\n    <tr style=\"text-align: right;\">\n      <th></th>\n      <th>주가</th>\n      <th>업종</th>\n      <th>발행주식수</th>\n    </tr>\n  </thead>\n  <tbody>\n    <tr>\n      <th>삼성</th>\n      <td>5000</td>\n      <td>스마트폰스마트폰</td>\n      <td>60000</td>\n    </tr>\n    <tr>\n      <th>현대</th>\n      <td>3000</td>\n      <td>자동차자동차</td>\n      <td>40000</td>\n    </tr>\n    <tr>\n      <th>네이버</th>\n      <td>3000</td>\n      <td>IT서비스업IT서비스업</td>\n      <td>30000</td>\n    </tr>\n    <tr>\n      <th>카카오</th>\n      <td>4000</td>\n      <td>금융업금융업</td>\n      <td>30000</td>\n    </tr>\n  </tbody>\n</table>\n</div>"
     },
     "metadata": {},
     "execution_count": 274
    }
   ],
   "source": [
    "d + d2"
   ]
  },
  {
   "cell_type": "code",
   "execution_count": 275,
   "metadata": {},
   "outputs": [
    {
     "output_type": "execute_result",
     "data": {
      "text/plain": [
       "       주가      업종  발행주식수\n",
       "삼성   2500    스마트폰  30000\n",
       "현대   1500     자동차  20000\n",
       "네이버  1500  IT서비스업  15000\n",
       "카카오  2000     금융업  15000\n",
       "삼성   2500    스마트폰  30000\n",
       "현대   1500     자동차  20000\n",
       "네이버  1500  IT서비스업  15000\n",
       "카카오  2000     금융업  15000"
      ],
      "text/html": "<div>\n<style scoped>\n    .dataframe tbody tr th:only-of-type {\n        vertical-align: middle;\n    }\n\n    .dataframe tbody tr th {\n        vertical-align: top;\n    }\n\n    .dataframe thead th {\n        text-align: right;\n    }\n</style>\n<table border=\"1\" class=\"dataframe\">\n  <thead>\n    <tr style=\"text-align: right;\">\n      <th></th>\n      <th>주가</th>\n      <th>업종</th>\n      <th>발행주식수</th>\n    </tr>\n  </thead>\n  <tbody>\n    <tr>\n      <th>삼성</th>\n      <td>2500</td>\n      <td>스마트폰</td>\n      <td>30000</td>\n    </tr>\n    <tr>\n      <th>현대</th>\n      <td>1500</td>\n      <td>자동차</td>\n      <td>20000</td>\n    </tr>\n    <tr>\n      <th>네이버</th>\n      <td>1500</td>\n      <td>IT서비스업</td>\n      <td>15000</td>\n    </tr>\n    <tr>\n      <th>카카오</th>\n      <td>2000</td>\n      <td>금융업</td>\n      <td>15000</td>\n    </tr>\n    <tr>\n      <th>삼성</th>\n      <td>2500</td>\n      <td>스마트폰</td>\n      <td>30000</td>\n    </tr>\n    <tr>\n      <th>현대</th>\n      <td>1500</td>\n      <td>자동차</td>\n      <td>20000</td>\n    </tr>\n    <tr>\n      <th>네이버</th>\n      <td>1500</td>\n      <td>IT서비스업</td>\n      <td>15000</td>\n    </tr>\n    <tr>\n      <th>카카오</th>\n      <td>2000</td>\n      <td>금융업</td>\n      <td>15000</td>\n    </tr>\n  </tbody>\n</table>\n</div>"
     },
     "metadata": {},
     "execution_count": 275
    }
   ],
   "source": [
    "d.append(d2)"
   ]
  },
  {
   "cell_type": "code",
   "execution_count": 276,
   "metadata": {},
   "outputs": [
    {
     "output_type": "execute_result",
     "data": {
      "text/plain": [
       "       주가      업종  발행주식수\n",
       "삼성   2500    스마트폰  30000\n",
       "현대   1500     자동차  20000\n",
       "네이버  1500  IT서비스업  15000\n",
       "카카오  2000     금융업  15000\n",
       "삼성   2500    스마트폰  30000\n",
       "현대   1500     자동차  20000\n",
       "네이버  1500  IT서비스업  15000\n",
       "카카오  2000     금융업  15000"
      ],
      "text/html": "<div>\n<style scoped>\n    .dataframe tbody tr th:only-of-type {\n        vertical-align: middle;\n    }\n\n    .dataframe tbody tr th {\n        vertical-align: top;\n    }\n\n    .dataframe thead th {\n        text-align: right;\n    }\n</style>\n<table border=\"1\" class=\"dataframe\">\n  <thead>\n    <tr style=\"text-align: right;\">\n      <th></th>\n      <th>주가</th>\n      <th>업종</th>\n      <th>발행주식수</th>\n    </tr>\n  </thead>\n  <tbody>\n    <tr>\n      <th>삼성</th>\n      <td>2500</td>\n      <td>스마트폰</td>\n      <td>30000</td>\n    </tr>\n    <tr>\n      <th>현대</th>\n      <td>1500</td>\n      <td>자동차</td>\n      <td>20000</td>\n    </tr>\n    <tr>\n      <th>네이버</th>\n      <td>1500</td>\n      <td>IT서비스업</td>\n      <td>15000</td>\n    </tr>\n    <tr>\n      <th>카카오</th>\n      <td>2000</td>\n      <td>금융업</td>\n      <td>15000</td>\n    </tr>\n    <tr>\n      <th>삼성</th>\n      <td>2500</td>\n      <td>스마트폰</td>\n      <td>30000</td>\n    </tr>\n    <tr>\n      <th>현대</th>\n      <td>1500</td>\n      <td>자동차</td>\n      <td>20000</td>\n    </tr>\n    <tr>\n      <th>네이버</th>\n      <td>1500</td>\n      <td>IT서비스업</td>\n      <td>15000</td>\n    </tr>\n    <tr>\n      <th>카카오</th>\n      <td>2000</td>\n      <td>금융업</td>\n      <td>15000</td>\n    </tr>\n  </tbody>\n</table>\n</div>"
     },
     "metadata": {},
     "execution_count": 276
    }
   ],
   "source": [
    "pd.concat([d,d2])"
   ]
  },
  {
   "cell_type": "code",
   "execution_count": 277,
   "metadata": {},
   "outputs": [
    {
     "output_type": "execute_result",
     "data": {
      "text/plain": [
       "       주가      업종  발행주식수\n",
       "삼성   2500    스마트폰  30000\n",
       "현대   1500     자동차  20000\n",
       "네이버  1500  IT서비스업  15000\n",
       "카카오  2000     금융업  15000"
      ],
      "text/html": "<div>\n<style scoped>\n    .dataframe tbody tr th:only-of-type {\n        vertical-align: middle;\n    }\n\n    .dataframe tbody tr th {\n        vertical-align: top;\n    }\n\n    .dataframe thead th {\n        text-align: right;\n    }\n</style>\n<table border=\"1\" class=\"dataframe\">\n  <thead>\n    <tr style=\"text-align: right;\">\n      <th></th>\n      <th>주가</th>\n      <th>업종</th>\n      <th>발행주식수</th>\n    </tr>\n  </thead>\n  <tbody>\n    <tr>\n      <th>삼성</th>\n      <td>2500</td>\n      <td>스마트폰</td>\n      <td>30000</td>\n    </tr>\n    <tr>\n      <th>현대</th>\n      <td>1500</td>\n      <td>자동차</td>\n      <td>20000</td>\n    </tr>\n    <tr>\n      <th>네이버</th>\n      <td>1500</td>\n      <td>IT서비스업</td>\n      <td>15000</td>\n    </tr>\n    <tr>\n      <th>카카오</th>\n      <td>2000</td>\n      <td>금융업</td>\n      <td>15000</td>\n    </tr>\n  </tbody>\n</table>\n</div>"
     },
     "metadata": {},
     "execution_count": 277
    }
   ],
   "source": [
    "# Aggregation 함수\n",
    "d"
   ]
  },
  {
   "cell_type": "code",
   "execution_count": 278,
   "metadata": {},
   "outputs": [
    {
     "output_type": "execute_result",
     "data": {
      "text/plain": [
       "주가         1500\n",
       "업종       IT서비스업\n",
       "발행주식수     15000\n",
       "dtype: object"
      ]
     },
     "metadata": {},
     "execution_count": 278
    }
   ],
   "source": [
    "d.min()"
   ]
  },
  {
   "cell_type": "code",
   "execution_count": 279,
   "metadata": {},
   "outputs": [
    {
     "output_type": "execute_result",
     "data": {
      "text/plain": [
       "1500"
      ]
     },
     "metadata": {},
     "execution_count": 279
    }
   ],
   "source": [
    "d['주가'].min()"
   ]
  },
  {
   "cell_type": "code",
   "execution_count": null,
   "metadata": {},
   "outputs": [],
   "source": []
  }
 ],
 "metadata": {
  "kernelspec": {
   "name": "python3",
   "display_name": "Python 3.8.2 32-bit"
  },
  "language_info": {
   "codemirror_mode": {
    "name": "ipython",
    "version": 3
   },
   "file_extension": ".py",
   "mimetype": "text/x-python",
   "name": "python",
   "nbconvert_exporter": "python",
   "pygments_lexer": "ipython3",
   "version": "3.8.2"
  },
  "interpreter": {
   "hash": "d4c77dc6b81d4d031dfdfe852e6343c22a739ad6f5ea1c5ff982e63518782848"
  }
 },
 "nbformat": 4,
 "nbformat_minor": 4
}