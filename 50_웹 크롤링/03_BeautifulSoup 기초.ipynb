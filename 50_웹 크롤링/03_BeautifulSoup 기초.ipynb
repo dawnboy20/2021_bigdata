{
 "cells": [
  {
   "cell_type": "markdown",
   "source": [
    "# 3. BeautifulSoup 기초\r\n",
    "* HTML과 XML문서를 파싱하기 위한 파이썬 패키지\r\n",
    "* 대표페이지 소개"
   ],
   "metadata": {}
  },
  {
   "cell_type": "code",
   "execution_count": 1,
   "source": [
    "import requests\r\n",
    "from bs4 import BeautifulSoup"
   ],
   "outputs": [],
   "metadata": {}
  },
  {
   "cell_type": "code",
   "execution_count": 2,
   "source": [
    "requests.__version__"
   ],
   "outputs": [
    {
     "output_type": "execute_result",
     "data": {
      "text/plain": [
       "'2.26.0'"
      ]
     },
     "metadata": {},
     "execution_count": 2
    }
   ],
   "metadata": {}
  },
  {
   "cell_type": "code",
   "execution_count": 3,
   "source": [
    "html_doc = \"\"\"\r\n",
    "<html>\r\n",
    "<head>\r\n",
    "<title>My story</title>\r\n",
    "</head>\r\n",
    "<body>\r\n",
    "<p class = \"title\">My story</p>\r\n",
    "<p class=\"story\">내가 좋아하는 음식\r\n",
    "<a href=\"http://www.pizzahut.co.kr\" class=\"food\" id=\"link1\">피자</a>\r\n",
    "<a href=\"http://www.kyochon.co.kr\" class=\"food\" id=\"link1\">치킨</a>\r\n",
    "<a href=\"http://www.momstouch.co.kr\" class=\"food\" id=\"link1\">버거</a>\r\n",
    "</p>\r\n",
    "</body>\r\n",
    "</html>\r\n",
    "\"\"\""
   ],
   "outputs": [],
   "metadata": {}
  },
  {
   "cell_type": "code",
   "execution_count": 4,
   "source": [
    "soup = BeautifulSoup(html_doc, 'html.parser')\r\n",
    "soup"
   ],
   "outputs": [
    {
     "output_type": "execute_result",
     "data": {
      "text/plain": [
       "\n",
       "<html>\n",
       "<head>\n",
       "<title>My story</title>\n",
       "</head>\n",
       "<body>\n",
       "<p class=\"title\">My story</p>\n",
       "<p class=\"story\">내가 좋아하는 음식\n",
       "<a class=\"food\" href=\"http://www.pizzahut.co.kr\" id=\"link1\">피자</a>\n",
       "<a class=\"food\" href=\"http://www.kyochon.co.kr\" id=\"link1\">치킨</a>\n",
       "<a class=\"food\" href=\"http://www.momstouch.co.kr\" id=\"link1\">버거</a>\n",
       "</p>\n",
       "</body>\n",
       "</html>"
      ]
     },
     "metadata": {},
     "execution_count": 4
    }
   ],
   "metadata": {}
  },
  {
   "cell_type": "code",
   "execution_count": 5,
   "source": [
    "print(soup.prettify())"
   ],
   "outputs": [
    {
     "output_type": "stream",
     "name": "stdout",
     "text": [
      "<html>\n",
      " <head>\n",
      "  <title>\n",
      "   My story\n",
      "  </title>\n",
      " </head>\n",
      " <body>\n",
      "  <p class=\"title\">\n",
      "   My story\n",
      "  </p>\n",
      "  <p class=\"story\">\n",
      "   내가 좋아하는 음식\n",
      "   <a class=\"food\" href=\"http://www.pizzahut.co.kr\" id=\"link1\">\n",
      "    피자\n",
      "   </a>\n",
      "   <a class=\"food\" href=\"http://www.kyochon.co.kr\" id=\"link1\">\n",
      "    치킨\n",
      "   </a>\n",
      "   <a class=\"food\" href=\"http://www.momstouch.co.kr\" id=\"link1\">\n",
      "    버거\n",
      "   </a>\n",
      "  </p>\n",
      " </body>\n",
      "</html>\n",
      "\n"
     ]
    }
   ],
   "metadata": {}
  },
  {
   "cell_type": "markdown",
   "source": [
    "# find 함수"
   ],
   "metadata": {}
  },
  {
   "cell_type": "code",
   "execution_count": 6,
   "source": [
    "soup.find('p')"
   ],
   "outputs": [
    {
     "output_type": "execute_result",
     "data": {
      "text/plain": [
       "<p class=\"title\">My story</p>"
      ]
     },
     "metadata": {},
     "execution_count": 6
    }
   ],
   "metadata": {}
  },
  {
   "cell_type": "code",
   "execution_count": 7,
   "source": [
    "soup.find('a',class_='food',id = 'link3')"
   ],
   "outputs": [],
   "metadata": {}
  },
  {
   "cell_type": "code",
   "execution_count": 8,
   "source": [
    "type(soup)"
   ],
   "outputs": [
    {
     "output_type": "execute_result",
     "data": {
      "text/plain": [
       "bs4.BeautifulSoup"
      ]
     },
     "metadata": {},
     "execution_count": 8
    }
   ],
   "metadata": {}
  },
  {
   "cell_type": "markdown",
   "source": [
    "### find_all 함수\r\n",
    "* 조건에 맞는 모든 tag를 리스트로 반환"
   ],
   "metadata": {}
  },
  {
   "cell_type": "code",
   "execution_count": 9,
   "source": [
    "soup"
   ],
   "outputs": [
    {
     "output_type": "execute_result",
     "data": {
      "text/plain": [
       "\n",
       "<html>\n",
       "<head>\n",
       "<title>My story</title>\n",
       "</head>\n",
       "<body>\n",
       "<p class=\"title\">My story</p>\n",
       "<p class=\"story\">내가 좋아하는 음식\n",
       "<a class=\"food\" href=\"http://www.pizzahut.co.kr\" id=\"link1\">피자</a>\n",
       "<a class=\"food\" href=\"http://www.kyochon.co.kr\" id=\"link1\">치킨</a>\n",
       "<a class=\"food\" href=\"http://www.momstouch.co.kr\" id=\"link1\">버거</a>\n",
       "</p>\n",
       "</body>\n",
       "</html>"
      ]
     },
     "metadata": {},
     "execution_count": 9
    }
   ],
   "metadata": {}
  },
  {
   "cell_type": "code",
   "execution_count": 10,
   "source": [
    "soup.find_all('p')"
   ],
   "outputs": [
    {
     "output_type": "execute_result",
     "data": {
      "text/plain": [
       "[<p class=\"title\">My story</p>,\n",
       " <p class=\"story\">내가 좋아하는 음식\n",
       " <a class=\"food\" href=\"http://www.pizzahut.co.kr\" id=\"link1\">피자</a>\n",
       " <a class=\"food\" href=\"http://www.kyochon.co.kr\" id=\"link1\">치킨</a>\n",
       " <a class=\"food\" href=\"http://www.momstouch.co.kr\" id=\"link1\">버거</a>\n",
       " </p>]"
      ]
     },
     "metadata": {},
     "execution_count": 10
    }
   ],
   "metadata": {}
  },
  {
   "cell_type": "code",
   "execution_count": 11,
   "source": [
    "soup.find_all('a')"
   ],
   "outputs": [
    {
     "output_type": "execute_result",
     "data": {
      "text/plain": [
       "[<a class=\"food\" href=\"http://www.pizzahut.co.kr\" id=\"link1\">피자</a>,\n",
       " <a class=\"food\" href=\"http://www.kyochon.co.kr\" id=\"link1\">치킨</a>,\n",
       " <a class=\"food\" href=\"http://www.momstouch.co.kr\" id=\"link1\">버거</a>]"
      ]
     },
     "metadata": {},
     "execution_count": 11
    }
   ],
   "metadata": {}
  },
  {
   "cell_type": "code",
   "execution_count": 12,
   "source": [
    "soup.find_all('a',id='link1')"
   ],
   "outputs": [
    {
     "output_type": "execute_result",
     "data": {
      "text/plain": [
       "[<a class=\"food\" href=\"http://www.pizzahut.co.kr\" id=\"link1\">피자</a>,\n",
       " <a class=\"food\" href=\"http://www.kyochon.co.kr\" id=\"link1\">치킨</a>,\n",
       " <a class=\"food\" href=\"http://www.momstouch.co.kr\" id=\"link1\">버거</a>]"
      ]
     },
     "metadata": {},
     "execution_count": 12
    }
   ],
   "metadata": {}
  },
  {
   "cell_type": "code",
   "execution_count": 13,
   "source": [
    "for tag in soup.find_all('a'):\r\n",
    "  print(tag)"
   ],
   "outputs": [
    {
     "output_type": "stream",
     "name": "stdout",
     "text": [
      "<a class=\"food\" href=\"http://www.pizzahut.co.kr\" id=\"link1\">피자</a>\n",
      "<a class=\"food\" href=\"http://www.kyochon.co.kr\" id=\"link1\">치킨</a>\n",
      "<a class=\"food\" href=\"http://www.momstouch.co.kr\" id=\"link1\">버거</a>\n"
     ]
    }
   ],
   "metadata": {}
  },
  {
   "cell_type": "markdown",
   "source": [
    "### get_text 함수\r\n",
    "* tag안의 value를 추출\r\n",
    "* 부모 tag"
   ],
   "metadata": {}
  },
  {
   "cell_type": "code",
   "execution_count": 14,
   "source": [
    "soup.get_text()"
   ],
   "outputs": [
    {
     "output_type": "execute_result",
     "data": {
      "text/plain": [
       "'\\n\\n\\nMy story\\n\\n\\nMy story\\n내가 좋아하는 음식\\n피자\\n치킨\\n버거\\n\\n\\n\\n'"
      ]
     },
     "metadata": {},
     "execution_count": 14
    }
   ],
   "metadata": {}
  },
  {
   "cell_type": "code",
   "execution_count": 15,
   "source": [
    "print(soup.prettify())"
   ],
   "outputs": [
    {
     "output_type": "stream",
     "name": "stdout",
     "text": [
      "<html>\n",
      " <head>\n",
      "  <title>\n",
      "   My story\n",
      "  </title>\n",
      " </head>\n",
      " <body>\n",
      "  <p class=\"title\">\n",
      "   My story\n",
      "  </p>\n",
      "  <p class=\"story\">\n",
      "   내가 좋아하는 음식\n",
      "   <a class=\"food\" href=\"http://www.pizzahut.co.kr\" id=\"link1\">\n",
      "    피자\n",
      "   </a>\n",
      "   <a class=\"food\" href=\"http://www.kyochon.co.kr\" id=\"link1\">\n",
      "    치킨\n",
      "   </a>\n",
      "   <a class=\"food\" href=\"http://www.momstouch.co.kr\" id=\"link1\">\n",
      "    버거\n",
      "   </a>\n",
      "  </p>\n",
      " </body>\n",
      "</html>\n",
      "\n"
     ]
    }
   ],
   "metadata": {}
  },
  {
   "cell_type": "code",
   "execution_count": 17,
   "source": [
    "soup.find('p').get_text()"
   ],
   "outputs": [
    {
     "output_type": "execute_result",
     "data": {
      "text/plain": [
       "'My story'"
      ]
     },
     "metadata": {},
     "execution_count": 17
    }
   ],
   "metadata": {}
  },
  {
   "cell_type": "code",
   "execution_count": 19,
   "source": [
    "soup.find_all('p').get_text()"
   ],
   "outputs": [
    {
     "output_type": "error",
     "ename": "AttributeError",
     "evalue": "ResultSet object has no attribute 'get_text'. You're probably treating a list of elements like a single element. Did you call find_all() when you meant to call find()?",
     "traceback": [
      "\u001b[1;31m---------------------------------------------------------------------------\u001b[0m",
      "\u001b[1;31mAttributeError\u001b[0m                            Traceback (most recent call last)",
      "\u001b[1;32m<ipython-input-19-4ee2a6784a2a>\u001b[0m in \u001b[0;36m<module>\u001b[1;34m\u001b[0m\n\u001b[1;32m----> 1\u001b[1;33m \u001b[0msoup\u001b[0m\u001b[1;33m.\u001b[0m\u001b[0mfind_all\u001b[0m\u001b[1;33m(\u001b[0m\u001b[1;34m'p'\u001b[0m\u001b[1;33m)\u001b[0m\u001b[1;33m.\u001b[0m\u001b[0mget_text\u001b[0m\u001b[1;33m(\u001b[0m\u001b[1;33m)\u001b[0m\u001b[1;33m\u001b[0m\u001b[1;33m\u001b[0m\u001b[0m\n\u001b[0m",
      "\u001b[1;32m~\\AppData\\Local\\Programs\\Python\\Python38-32\\lib\\site-packages\\bs4\\element.py\u001b[0m in \u001b[0;36m__getattr__\u001b[1;34m(self, key)\u001b[0m\n\u001b[0;32m   2158\u001b[0m     \u001b[1;32mdef\u001b[0m \u001b[0m__getattr__\u001b[0m\u001b[1;33m(\u001b[0m\u001b[0mself\u001b[0m\u001b[1;33m,\u001b[0m \u001b[0mkey\u001b[0m\u001b[1;33m)\u001b[0m\u001b[1;33m:\u001b[0m\u001b[1;33m\u001b[0m\u001b[1;33m\u001b[0m\u001b[0m\n\u001b[0;32m   2159\u001b[0m         \u001b[1;34m\"\"\"Raise a helpful exception to explain a common code fix.\"\"\"\u001b[0m\u001b[1;33m\u001b[0m\u001b[1;33m\u001b[0m\u001b[0m\n\u001b[1;32m-> 2160\u001b[1;33m         raise AttributeError(\n\u001b[0m\u001b[0;32m   2161\u001b[0m             \u001b[1;34m\"ResultSet object has no attribute '%s'. You're probably treating a list of elements like a single element. Did you call find_all() when you meant to call find()?\"\u001b[0m \u001b[1;33m%\u001b[0m \u001b[0mkey\u001b[0m\u001b[1;33m\u001b[0m\u001b[1;33m\u001b[0m\u001b[0m\n\u001b[0;32m   2162\u001b[0m         )\n",
      "\u001b[1;31mAttributeError\u001b[0m: ResultSet object has no attribute 'get_text'. You're probably treating a list of elements like a single element. Did you call find_all() when you meant to call find()?"
     ]
    }
   ],
   "metadata": {}
  },
  {
   "cell_type": "code",
   "execution_count": 20,
   "source": [
    "for tag in soup.find_all('a'):\r\n",
    "  print(tag.get_text())"
   ],
   "outputs": [
    {
     "output_type": "stream",
     "name": "stdout",
     "text": [
      "피자\n",
      "치킨\n",
      "버거\n"
     ]
    }
   ],
   "metadata": {}
  },
  {
   "cell_type": "markdown",
   "source": [
    "### attribute값 출력하기\r\n",
    "* 검색한 tag에서 attribute값을 추출\r\n",
    "* tag['attri명']"
   ],
   "metadata": {}
  },
  {
   "cell_type": "code",
   "execution_count": 23,
   "source": [
    "soup.find('a').attrs"
   ],
   "outputs": [
    {
     "output_type": "execute_result",
     "data": {
      "text/plain": [
       "{'href': 'http://www.pizzahut.co.kr', 'class': ['food'], 'id': 'link1'}"
      ]
     },
     "metadata": {},
     "execution_count": 23
    }
   ],
   "metadata": {}
  },
  {
   "cell_type": "code",
   "execution_count": 24,
   "source": [
    "soup.find('p')['class']"
   ],
   "outputs": [
    {
     "output_type": "execute_result",
     "data": {
      "text/plain": [
       "['title']"
      ]
     },
     "metadata": {},
     "execution_count": 24
    }
   ],
   "metadata": {}
  },
  {
   "cell_type": "code",
   "execution_count": 28,
   "source": [
    "for tag in soup.find_all('a'):\r\n",
    "  print(tag['href'])"
   ],
   "outputs": [
    {
     "output_type": "stream",
     "name": "stdout",
     "text": [
      "http://www.pizzahut.co.kr\n",
      "http://www.kyochon.co.kr\n",
      "http://www.momstouch.co.kr\n"
     ]
    }
   ],
   "metadata": {}
  },
  {
   "cell_type": "markdown",
   "source": [
    "### select 함수\r\n",
    "* select는 CSS Selector로 tag 찾기\r\n",
    "* 자손 태그 찾기 - tag1 tag2\r\n",
    "* 직계 자식 태그 찾기 - tag1 > tag2\r\n",
    "* id 선택자 - #id\r\n",
    "* class 선택지 - .class\r\n",
    "* 속성값 찾기 - [name = 'value']\r\n",
    "  * 속성값 prefix 찾기 [name ^='vlaue']\r\n",
    "  * 속성값 suffix 찾기 [name $= 'value']\r\n",
    "  * 속성값 포함문자열 찾기 [name *= 'value']"
   ],
   "metadata": {}
  },
  {
   "cell_type": "code",
   "execution_count": 29,
   "source": [
    "soup.select_one('p')"
   ],
   "outputs": [
    {
     "output_type": "execute_result",
     "data": {
      "text/plain": [
       "<p class=\"title\">My story</p>"
      ]
     },
     "metadata": {},
     "execution_count": 29
    }
   ],
   "metadata": {}
  },
  {
   "cell_type": "code",
   "execution_count": 30,
   "source": [
    "soup.select('html title')"
   ],
   "outputs": [
    {
     "output_type": "execute_result",
     "data": {
      "text/plain": [
       "[<title>My story</title>]"
      ]
     },
     "metadata": {},
     "execution_count": 30
    }
   ],
   "metadata": {}
  },
  {
   "cell_type": "code",
   "execution_count": 31,
   "source": [
    "# id 선택자\r\n",
    "soup.select('#link1')"
   ],
   "outputs": [
    {
     "output_type": "execute_result",
     "data": {
      "text/plain": [
       "[<a class=\"food\" href=\"http://www.pizzahut.co.kr\" id=\"link1\">피자</a>,\n",
       " <a class=\"food\" href=\"http://www.kyochon.co.kr\" id=\"link1\">치킨</a>,\n",
       " <a class=\"food\" href=\"http://www.momstouch.co.kr\" id=\"link1\">버거</a>]"
      ]
     },
     "metadata": {},
     "execution_count": 31
    }
   ],
   "metadata": {}
  },
  {
   "cell_type": "code",
   "execution_count": 32,
   "source": [
    "# class 선택자\r\n",
    "soup.select('.title')"
   ],
   "outputs": [
    {
     "output_type": "execute_result",
     "data": {
      "text/plain": [
       "[<p class=\"title\">My story</p>]"
      ]
     },
     "metadata": {},
     "execution_count": 32
    }
   ],
   "metadata": {}
  },
  {
   "cell_type": "code",
   "execution_count": 33,
   "source": [
    "# 속성값 찾기\r\n",
    "soup.select('[href=\"http://www.pizzahut.co.kr\"]')"
   ],
   "outputs": [
    {
     "output_type": "execute_result",
     "data": {
      "text/plain": [
       "[<a class=\"food\" href=\"http://www.pizzahut.co.kr\" id=\"link1\">피자</a>]"
      ]
     },
     "metadata": {},
     "execution_count": 33
    }
   ],
   "metadata": {}
  },
  {
   "cell_type": "code",
   "execution_count": 40,
   "source": [
    "# 종료문자열\r\n",
    "soup.select('[href$=\"kr\"]')"
   ],
   "outputs": [
    {
     "output_type": "execute_result",
     "data": {
      "text/plain": [
       "[<a class=\"food\" href=\"http://www.pizzahut.co.kr\" id=\"link1\">피자</a>,\n",
       " <a class=\"food\" href=\"http://www.kyochon.co.kr\" id=\"link1\">치킨</a>,\n",
       " <a class=\"food\" href=\"http://www.momstouch.co.kr\" id=\"link1\">버거</a>]"
      ]
     },
     "metadata": {},
     "execution_count": 40
    }
   ],
   "metadata": {}
  },
  {
   "cell_type": "code",
   "execution_count": 38,
   "source": [
    "soup.select('[href*=\"ch\"]')"
   ],
   "outputs": [
    {
     "output_type": "execute_result",
     "data": {
      "text/plain": [
       "[<a class=\"food\" href=\"http://www.kyochon.co.kr\" id=\"link1\">치킨</a>,\n",
       " <a class=\"food\" href=\"http://www.momstouch.co.kr\" id=\"link1\">버거</a>]"
      ]
     },
     "metadata": {},
     "execution_count": 38
    }
   ],
   "metadata": {}
  },
  {
   "cell_type": "code",
   "execution_count": null,
   "source": [],
   "outputs": [],
   "metadata": {}
  }
 ],
 "metadata": {
  "orig_nbformat": 4,
  "language_info": {
   "name": "python",
   "version": "3.8.2",
   "mimetype": "text/x-python",
   "codemirror_mode": {
    "name": "ipython",
    "version": 3
   },
   "pygments_lexer": "ipython3",
   "nbconvert_exporter": "python",
   "file_extension": ".py"
  },
  "kernelspec": {
   "name": "python3",
   "display_name": "Python 3.8.2 32-bit"
  },
  "interpreter": {
   "hash": "d4c77dc6b81d4d031dfdfe852e6343c22a739ad6f5ea1c5ff982e63518782848"
  }
 },
 "nbformat": 4,
 "nbformat_minor": 2
}