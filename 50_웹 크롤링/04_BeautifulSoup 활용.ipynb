{
 "cells": [
  {
   "cell_type": "markdown",
   "source": [
    "# 4. BeautifulSoup 활용\n",
    "* 멜론사이트 크롤링하기\n",
    "* 제목, 가수, 앨범, 좋아요수 추출"
   ],
   "metadata": {}
  },
  {
   "cell_type": "code",
   "execution_count": 2,
   "source": [
    "import requests\r\n",
    "from bs4 import BeautifulSoup\r\n",
    "import pandas as pd"
   ],
   "outputs": [],
   "metadata": {}
  },
  {
   "cell_type": "code",
   "execution_count": 3,
   "source": [
    "url = 'https://www.melon.com/chart/index.htm'\r\n",
    "\r\n",
    "headers = {\r\n",
    "    'user-agent' : 'Mozilla/5.0 (Windows NT 10.0; Win64; x64) AppleWebKit/537.36 (KHTML, like Gecko) Chrome/92.0.4515.131 Safari/537.36'\r\n",
    "}\r\n",
    "res = requests.get(url, headers=headers)\r\n",
    "res"
   ],
   "outputs": [
    {
     "output_type": "execute_result",
     "data": {
      "text/plain": [
       "<Response [200]>"
      ]
     },
     "metadata": {},
     "execution_count": 3
    }
   ],
   "metadata": {}
  },
  {
   "cell_type": "code",
   "execution_count": 4,
   "source": [
    "res.text[:300]"
   ],
   "outputs": [
    {
     "output_type": "execute_result",
     "data": {
      "text/plain": [
       "'<!DOCTYPE html>\\r\\n<html lang=\"ko\">\\r\\n\\r\\n\\r\\n\\r\\n\\r\\n\\r\\n\\r\\n\\r\\n\\r\\n\\r\\n\\r\\n\\r\\n\\r\\n\\r\\n<head>\\r\\n\\t\\t\\r\\n\\t\\r\\n\\t\\r\\n\\t\\r\\n\\t\\r\\n\\t\\r\\n\\t\\r\\n\\t\\r\\n\\r\\n\\t<meta http-equiv=\"Content-Type\" content=\"text/html; charset=utf-8\"/>\\r\\n\\t<meta http-equiv=\"X-UA-Compatible\" content=\"IE=edge,chrome=1\" />\\r\\n\\t\\r\\n\\r\\n\\t\\r\\n\\r\\n\\t\\r\\n\\r\\n\\t<title>멜론차트>TOP100>멜론</title>\\r\\n\\t<meta name=\"keywor'"
      ]
     },
     "metadata": {},
     "execution_count": 4
    }
   ],
   "metadata": {}
  },
  {
   "cell_type": "code",
   "execution_count": 5,
   "source": [
    "soup = BeautifulSoup(res.text)"
   ],
   "outputs": [],
   "metadata": {}
  },
  {
   "cell_type": "markdown",
   "source": [
    "## 노래제목 추출"
   ],
   "metadata": {}
  },
  {
   "cell_type": "code",
   "execution_count": 6,
   "source": [
    "songs = soup.select('.ellipsis.rank01')\r\n",
    "title = []\r\n",
    "\r\n",
    "for song in songs:\r\n",
    "    title.append(song.find('a').get_text())\r\n",
    "title"
   ],
   "outputs": [
    {
     "output_type": "execute_result",
     "data": {
      "text/plain": [
       "['신호등',\n",
       " 'STAY',\n",
       " '바라만 본다',\n",
       " 'Next Level',\n",
       " '낙하 (with 아이유)',\n",
       " 'Permission to Dance',\n",
       " 'Queendom',\n",
       " 'Weekend',\n",
       " 'Butter',\n",
       " 'OHAYO MY NIGHT',\n",
       " 'DUMB DUMB',\n",
       " '좋아좋아',\n",
       " '헤픈 우연',\n",
       " 'Peaches (Feat. Daniel Caesar & Giveon)',\n",
       " 'Dynamite',\n",
       " 'Bad Habits',\n",
       " '이제 나만 믿어요',\n",
       " '고백',\n",
       " '비와 당신',\n",
       " 'Dun Dun Dance',\n",
       " \"롤린 (Rollin')\",\n",
       " '비가 오는 날엔 (2021)',\n",
       " '별빛 같은 나의 사랑아',\n",
       " '라일락',\n",
       " '다정히 내 이름을 부르면',\n",
       " 'HERO',\n",
       " '치맛바람 (Chi Mat Ba Ram)',\n",
       " 'Celebrity',\n",
       " '그대라는 사치',\n",
       " '하루만 더',\n",
       " 'Alcohol-Free',\n",
       " '다시 사랑한다면 (김필 Ver.)',\n",
       " '여전히 아름다운지',\n",
       " '안녕 (Hello)',\n",
       " '끝사랑',\n",
       " 'ASAP',\n",
       " 'Bk Love',\n",
       " '사이렌 Remix (Feat. UNEDUCATED KID, Paul Blanco)',\n",
       " 'Savage Love (Laxed - Siren Beat) (BTS Remix)',\n",
       " '잊었니',\n",
       " '가을 우체국 앞에서',\n",
       " '작은 것들을 위한 시 (Boy With Luv) (Feat. Halsey)',\n",
       " '나를 아는 사람',\n",
       " '운전만해 (We Ride)',\n",
       " '미워요',\n",
       " '계단말고 엘리베이터',\n",
       " '사랑의 아픔 딛고',\n",
       " '봄날',\n",
       " '내 손을 잡아',\n",
       " '밝게 빛나는 별이 되어 비춰줄게',\n",
       " '상상더하기',\n",
       " 'Life Goes On',\n",
       " 'Timeless',\n",
       " '담아 갈게',\n",
       " '멜로디',\n",
       " '목로주점',\n",
       " '밤하늘의 별을(2020)',\n",
       " 'Off My Face',\n",
       " '이젠 잊기로 해요 (Drama Ver.)',\n",
       " 'Lovesick Girls',\n",
       " '어떻게 이별까지 사랑하겠어, 널 사랑하는 거지',\n",
       " '가까운 듯 먼 그대여',\n",
       " '아로하',\n",
       " '회상',\n",
       " '추억은 만남보다 이별에 남아',\n",
       " '비 오는 날 듣기 좋은 노래 (Feat. Colde)',\n",
       " '슈퍼스타',\n",
       " '상상더하기',\n",
       " '어푸 (Ah puh)',\n",
       " '고백',\n",
       " 'Blueming',\n",
       " '잠이 오질 않네요',\n",
       " '사진을 보다가',\n",
       " 'ONLY',\n",
       " 'Dolphin',\n",
       " '에잇(Prod.&Feat. SUGA of BTS)',\n",
       " '그날에 나는 맘이 편했을까',\n",
       " '2002',\n",
       " '취기를 빌려 (취향저격 그녀 X 산들)',\n",
       " '모든 날, 모든 순간 (Every day, Every Moment)',\n",
       " '고백',\n",
       " '12:45 (Stripped)',\n",
       " 'LOVE DAY (2021) (바른연애 길잡이 X 양요섭, 정은지)',\n",
       " '흔들리는 꽃들 속에서 네 샴푸향이 느껴진거야',\n",
       " '라라라',\n",
       " 'METEOR',\n",
       " '허리춤',\n",
       " '넌 좋은 사람',\n",
       " '오래된 노래',\n",
       " 'VVS (Feat. JUSTHIS) (Prod. GroovyRoom)',\n",
       " '너의 번호를 누르고 (Prod. 영화처럼)',\n",
       " '오늘도 빛나는 너에게 (To You My Light) (Feat.이라온)',\n",
       " '어떻게 지내 (Prod. By VAN.C)',\n",
       " '나랑 같이 걸을래 (바른연애 길잡이 X 적재)',\n",
       " 'Coin',\n",
       " 'Memories',\n",
       " '나는 너 좋아',\n",
       " '사실 나는 (Feat.전건호)',\n",
       " \"It's My Life\",\n",
       " '제자리 걸음']"
      ]
     },
     "metadata": {},
     "execution_count": 6
    }
   ],
   "metadata": {}
  },
  {
   "cell_type": "markdown",
   "source": [
    "### 가수명 추출"
   ],
   "metadata": {}
  },
  {
   "cell_type": "code",
   "execution_count": 7,
   "source": [
    "songs = soup.select('.ellipsis.rank02')\r\n",
    "singer= []\r\n",
    "\r\n",
    "for song in songs:\r\n",
    "    singer.append(song.find('a').get_text())\r\n",
    "singer"
   ],
   "outputs": [
    {
     "output_type": "execute_result",
     "data": {
      "text/plain": [
       "['이무진',\n",
       " 'The Kid LAROI',\n",
       " 'MSG워너비(M.O.M)',\n",
       " 'aespa',\n",
       " 'AKMU (악뮤)',\n",
       " '방탄소년단',\n",
       " 'Red Velvet (레드벨벳)',\n",
       " '태연 (TAEYEON)',\n",
       " '방탄소년단',\n",
       " '디핵 (D-Hack)',\n",
       " '전소미',\n",
       " '조정석',\n",
       " '헤이즈 (Heize)',\n",
       " 'Justin Bieber',\n",
       " '방탄소년단',\n",
       " 'Ed Sheeran',\n",
       " '임영웅',\n",
       " '멜로망스',\n",
       " '이무진',\n",
       " '오마이걸 (OH MY GIRL)',\n",
       " '브레이브걸스',\n",
       " '헤이즈 (Heize)',\n",
       " '임영웅',\n",
       " '아이유',\n",
       " '경서예지',\n",
       " '임영웅',\n",
       " '브레이브걸스',\n",
       " '아이유',\n",
       " '임영웅',\n",
       " '빅마마',\n",
       " 'TWICE (트와이스)',\n",
       " '임영웅',\n",
       " '세븐틴',\n",
       " '조이 (JOY)',\n",
       " '임영웅',\n",
       " 'STAYC(스테이씨)',\n",
       " '임영웅',\n",
       " '호미들',\n",
       " 'Jawsh 685',\n",
       " '임영웅',\n",
       " '김대명',\n",
       " '방탄소년단',\n",
       " 'MSG워너비(정상동기)',\n",
       " '브레이브걸스',\n",
       " '임영웅',\n",
       " '임영웅',\n",
       " '임영웅',\n",
       " '방탄소년단',\n",
       " '아이유',\n",
       " '송이한',\n",
       " '라붐 (LABOUM)',\n",
       " '방탄소년단',\n",
       " 'SG 워너비',\n",
       " '이무진',\n",
       " 'ASH ISLAND',\n",
       " '임영웅',\n",
       " '경서',\n",
       " 'Justin Bieber',\n",
       " '미도와 파라솔',\n",
       " 'BLACKPINK',\n",
       " 'AKMU (악뮤)',\n",
       " '카더가든',\n",
       " '조정석',\n",
       " '정경호',\n",
       " '정동하',\n",
       " '에픽하이 (EPIK HIGH)',\n",
       " '미도와 파라솔',\n",
       " 'MSG워너비 TOP 8 (별루지, 김정수, 강창모, 정기석, 이동휘, 이상이, 박재정, 원슈타인)',\n",
       " '아이유',\n",
       " '10CM',\n",
       " '아이유',\n",
       " '장범준',\n",
       " '다비치',\n",
       " '이하이',\n",
       " '오마이걸 (OH MY GIRL)',\n",
       " '아이유',\n",
       " '이예준',\n",
       " 'Anne-Marie',\n",
       " '산들',\n",
       " '폴킴',\n",
       " '장범준',\n",
       " 'Etham',\n",
       " '양요섭',\n",
       " '장범준',\n",
       " 'SG 워너비',\n",
       " '창모 (CHANGMO)',\n",
       " '오반 (OVAN)',\n",
       " 'SG 워너비',\n",
       " '스탠딩 에그',\n",
       " '미란이 (Mirani)',\n",
       " '#안녕',\n",
       " '마크툽 (MAKTUB)',\n",
       " '오반 (OVAN)',\n",
       " '적재',\n",
       " '아이유',\n",
       " 'Maroon 5',\n",
       " '장범준',\n",
       " '경서예지',\n",
       " '윤미래',\n",
       " 'V.O.S']"
      ]
     },
     "metadata": {},
     "execution_count": 7
    }
   ],
   "metadata": {}
  },
  {
   "cell_type": "markdown",
   "source": [
    "## 앨범명 추출"
   ],
   "metadata": {}
  },
  {
   "cell_type": "code",
   "execution_count": 8,
   "source": [
    "songs = soup.select('.ellipsis.rank02')\r\n",
    "album= []\r\n",
    "\r\n",
    "for song in songs:\r\n",
    "    album.append(song.find('a').get_text())\r\n",
    "album"
   ],
   "outputs": [
    {
     "output_type": "execute_result",
     "data": {
      "text/plain": [
       "['이무진',\n",
       " 'The Kid LAROI',\n",
       " 'MSG워너비(M.O.M)',\n",
       " 'aespa',\n",
       " 'AKMU (악뮤)',\n",
       " '방탄소년단',\n",
       " 'Red Velvet (레드벨벳)',\n",
       " '태연 (TAEYEON)',\n",
       " '방탄소년단',\n",
       " '디핵 (D-Hack)',\n",
       " '전소미',\n",
       " '조정석',\n",
       " '헤이즈 (Heize)',\n",
       " 'Justin Bieber',\n",
       " '방탄소년단',\n",
       " 'Ed Sheeran',\n",
       " '임영웅',\n",
       " '멜로망스',\n",
       " '이무진',\n",
       " '오마이걸 (OH MY GIRL)',\n",
       " '브레이브걸스',\n",
       " '헤이즈 (Heize)',\n",
       " '임영웅',\n",
       " '아이유',\n",
       " '경서예지',\n",
       " '임영웅',\n",
       " '브레이브걸스',\n",
       " '아이유',\n",
       " '임영웅',\n",
       " '빅마마',\n",
       " 'TWICE (트와이스)',\n",
       " '임영웅',\n",
       " '세븐틴',\n",
       " '조이 (JOY)',\n",
       " '임영웅',\n",
       " 'STAYC(스테이씨)',\n",
       " '임영웅',\n",
       " '호미들',\n",
       " 'Jawsh 685',\n",
       " '임영웅',\n",
       " '김대명',\n",
       " '방탄소년단',\n",
       " 'MSG워너비(정상동기)',\n",
       " '브레이브걸스',\n",
       " '임영웅',\n",
       " '임영웅',\n",
       " '임영웅',\n",
       " '방탄소년단',\n",
       " '아이유',\n",
       " '송이한',\n",
       " '라붐 (LABOUM)',\n",
       " '방탄소년단',\n",
       " 'SG 워너비',\n",
       " '이무진',\n",
       " 'ASH ISLAND',\n",
       " '임영웅',\n",
       " '경서',\n",
       " 'Justin Bieber',\n",
       " '미도와 파라솔',\n",
       " 'BLACKPINK',\n",
       " 'AKMU (악뮤)',\n",
       " '카더가든',\n",
       " '조정석',\n",
       " '정경호',\n",
       " '정동하',\n",
       " '에픽하이 (EPIK HIGH)',\n",
       " '미도와 파라솔',\n",
       " 'MSG워너비 TOP 8 (별루지, 김정수, 강창모, 정기석, 이동휘, 이상이, 박재정, 원슈타인)',\n",
       " '아이유',\n",
       " '10CM',\n",
       " '아이유',\n",
       " '장범준',\n",
       " '다비치',\n",
       " '이하이',\n",
       " '오마이걸 (OH MY GIRL)',\n",
       " '아이유',\n",
       " '이예준',\n",
       " 'Anne-Marie',\n",
       " '산들',\n",
       " '폴킴',\n",
       " '장범준',\n",
       " 'Etham',\n",
       " '양요섭',\n",
       " '장범준',\n",
       " 'SG 워너비',\n",
       " '창모 (CHANGMO)',\n",
       " '오반 (OVAN)',\n",
       " 'SG 워너비',\n",
       " '스탠딩 에그',\n",
       " '미란이 (Mirani)',\n",
       " '#안녕',\n",
       " '마크툽 (MAKTUB)',\n",
       " '오반 (OVAN)',\n",
       " '적재',\n",
       " '아이유',\n",
       " 'Maroon 5',\n",
       " '장범준',\n",
       " '경서예지',\n",
       " '윤미래',\n",
       " 'V.O.S']"
      ]
     },
     "metadata": {},
     "execution_count": 8
    }
   ],
   "metadata": {}
  },
  {
   "cell_type": "markdown",
   "source": [
    "### 좋아요 수 추출"
   ],
   "metadata": {}
  },
  {
   "cell_type": "code",
   "execution_count": 9,
   "source": [
    "songs = soup.select('.button_etc.like')\r\n"
   ],
   "outputs": [],
   "metadata": {}
  }
 ],
 "metadata": {
  "kernelspec": {
   "name": "python3",
   "display_name": "Python 3.8.2 32-bit"
  },
  "language_info": {
   "codemirror_mode": {
    "name": "ipython",
    "version": 3
   },
   "file_extension": ".py",
   "mimetype": "text/x-python",
   "name": "python",
   "nbconvert_exporter": "python",
   "pygments_lexer": "ipython3",
   "version": "3.8.2"
  },
  "interpreter": {
   "hash": "d4c77dc6b81d4d031dfdfe852e6343c22a739ad6f5ea1c5ff982e63518782848"
  }
 },
 "nbformat": 4,
 "nbformat_minor": 4
}